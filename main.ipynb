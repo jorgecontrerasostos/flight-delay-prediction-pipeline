{
 "cells": [
  {
   "metadata": {},
   "cell_type": "markdown",
   "source": "## Create Spark's Session",
   "id": "4890e83ab56e3321"
  },
  {
   "metadata": {
    "ExecuteTime": {
     "end_time": "2025-01-15T00:58:01.255848Z",
     "start_time": "2025-01-15T00:58:01.252641Z"
    }
   },
   "cell_type": "code",
   "source": [
    "from pyspark.sql import SparkSession, DataFrame\n",
    "from pyspark.sql import functions as F\n",
    "from pyspark.sql.types import IntegerType, DoubleType"
   ],
   "id": "116cca073ce5b60b",
   "outputs": [],
   "execution_count": 85
  },
  {
   "metadata": {
    "ExecuteTime": {
     "end_time": "2025-01-15T00:58:01.402986Z",
     "start_time": "2025-01-15T00:58:01.387036Z"
    }
   },
   "cell_type": "code",
   "source": "spark = SparkSession.builder.appName(\"Flights Data Pipeline\").config(\"spark.driver.bindAddress\", \"127.0.0.1\").config(\"spark.driver.port\", \"4040\").getOrCreate()",
   "id": "ca744ab23815fef8",
   "outputs": [],
   "execution_count": 86
  },
  {
   "metadata": {},
   "cell_type": "markdown",
   "source": "## Read CSV and Create `flights` Temporary View",
   "id": "caefe239e054e8bd"
  },
  {
   "metadata": {
    "ExecuteTime": {
     "end_time": "2025-01-15T00:58:01.760270Z",
     "start_time": "2025-01-15T00:58:01.420658Z"
    }
   },
   "cell_type": "code",
   "source": [
    "flights = spark.read.csv(\"data/flights.csv\", header=True, inferSchema=True)\n",
    "flights.createOrReplaceTempView(\"flights\")"
   ],
   "id": "2ac7ecaac7350fd4",
   "outputs": [],
   "execution_count": 87
  },
  {
   "metadata": {},
   "cell_type": "markdown",
   "source": "## Data Exploration Using SQL Queries",
   "id": "fd45ead6bc20fe93"
  },
  {
   "metadata": {
    "ExecuteTime": {
     "end_time": "2025-01-15T00:58:01.811345Z",
     "start_time": "2025-01-15T00:58:01.761759Z"
    }
   },
   "cell_type": "code",
   "source": "spark.sql(\"SELECT * FROM flights LIMIT 20\").show()",
   "id": "22502495ec5daf59",
   "outputs": [
    {
     "name": "stdout",
     "output_type": "stream",
     "text": [
      "+----+-----+---+--------+---------+--------+---------+-------+-------+------+------+----+--------+--------+----+------+\n",
      "|year|month|day|dep_time|dep_delay|arr_time|arr_delay|carrier|tailnum|flight|origin|dest|air_time|distance|hour|minute|\n",
      "+----+-----+---+--------+---------+--------+---------+-------+-------+------+------+----+--------+--------+----+------+\n",
      "|2014|    1|  1|       1|       96|     235|       70|     AS| N508AS|   145|   PDX| ANC|     194|    1542|   0|     1|\n",
      "|2014|    1|  1|       4|       -6|     738|      -23|     US| N195UW|  1830|   SEA| CLT|     252|    2279|   0|     4|\n",
      "|2014|    1|  1|       8|       13|     548|       -4|     UA| N37422|  1609|   PDX| IAH|     201|    1825|   0|     8|\n",
      "|2014|    1|  1|      28|       -2|     800|      -23|     US| N547UW|   466|   PDX| CLT|     251|    2282|   0|    28|\n",
      "|2014|    1|  1|      34|       44|     325|       43|     AS| N762AS|   121|   SEA| ANC|     201|    1448|   0|    34|\n",
      "|2014|    1|  1|      37|       82|     747|       88|     DL| N806DN|  1823|   SEA| DTW|     224|    1927|   0|    37|\n",
      "|2014|    1|  1|     346|      227|     936|      219|     UA| N14219|  1481|   SEA| ORD|     202|    1721|   3|    46|\n",
      "|2014|    1|  1|     526|       -4|    1148|       15|     UA| N813UA|   229|   PDX| IAH|     217|    1825|   5|    26|\n",
      "|2014|    1|  1|     527|        7|     917|       24|     UA| N75433|  1576|   SEA| DEN|     136|    1024|   5|    27|\n",
      "|2014|    1|  1|     536|        1|    1334|       -6|     UA| N574UA|   478|   SEA| EWR|     268|    2402|   5|    36|\n",
      "|2014|    1|  1|     541|        1|     911|        4|     UA| N36476|  1569|   PDX| DEN|     130|     991|   5|    41|\n",
      "|2014|    1|  1|     549|       24|     907|       12|     US| N548UW|   649|   PDX| PHX|     122|    1009|   5|    49|\n",
      "|2014|    1|  1|     550|        0|     837|      -12|     DL| N660DL|  1634|   SEA| SLC|      82|     689|   5|    50|\n",
      "|2014|    1|  1|     557|       -3|    1134|      -16|     AA| N3JLAA|  1094|   SEA| DFW|     184|    1660|   5|    57|\n",
      "|2014|    1|  1|     557|       -3|     825|      -25|     AS| N562AS|    81|   SEA| ANC|     188|    1448|   5|    57|\n",
      "|2014|    1|  1|     558|       -2|     801|       -2|     AS| N402AS|   200|   SEA| SJC|     100|     697|   5|    58|\n",
      "|2014|    1|  1|     559|       -1|     916|       -9|     F9| N210FR|   796|   PDX| DEN|     125|     991|   5|    59|\n",
      "|2014|    1|  1|     600|        0|    1151|      -19|     AA| N3JFAA|  2240|   SEA| ORD|     206|    1721|   6|     0|\n",
      "|2014|    1|  1|     600|      -10|     842|       -8|     AS| N786AS|   426|   SEA| LAX|     125|     954|   6|     0|\n",
      "|2014|    1|  1|     602|       -3|     943|        5|     F9| N201FR|   144|   SEA| DEN|     129|    1024|   6|     2|\n",
      "+----+-----+---+--------+---------+--------+---------+-------+-------+------+------+----+--------+--------+----+------+\n",
      "\n"
     ]
    }
   ],
   "execution_count": 88
  },
  {
   "metadata": {
    "ExecuteTime": {
     "end_time": "2025-01-15T00:58:01.835015Z",
     "start_time": "2025-01-15T00:58:01.812896Z"
    }
   },
   "cell_type": "code",
   "source": "spark.sql(\"DESCRIBE flights\").show()",
   "id": "e2991bb13dff3c05",
   "outputs": [
    {
     "name": "stdout",
     "output_type": "stream",
     "text": [
      "+---------+---------+-------+\n",
      "| col_name|data_type|comment|\n",
      "+---------+---------+-------+\n",
      "|     year|      int|   NULL|\n",
      "|    month|      int|   NULL|\n",
      "|      day|      int|   NULL|\n",
      "| dep_time|   string|   NULL|\n",
      "|dep_delay|   string|   NULL|\n",
      "| arr_time|   string|   NULL|\n",
      "|arr_delay|   string|   NULL|\n",
      "|  carrier|   string|   NULL|\n",
      "|  tailnum|   string|   NULL|\n",
      "|   flight|      int|   NULL|\n",
      "|   origin|   string|   NULL|\n",
      "|     dest|   string|   NULL|\n",
      "| air_time|   string|   NULL|\n",
      "| distance|      int|   NULL|\n",
      "|     hour|   string|   NULL|\n",
      "|   minute|   string|   NULL|\n",
      "+---------+---------+-------+\n",
      "\n"
     ]
    }
   ],
   "execution_count": 89
  },
  {
   "metadata": {
    "ExecuteTime": {
     "end_time": "2025-01-15T00:58:01.901417Z",
     "start_time": "2025-01-15T00:58:01.837122Z"
    }
   },
   "cell_type": "code",
   "source": "spark.sql(\"SELECT * FROM flights WHERE dep_time == 'NA'\").show()",
   "id": "5c74b85ab85e8cbf",
   "outputs": [
    {
     "name": "stdout",
     "output_type": "stream",
     "text": [
      "+----+-----+---+--------+---------+--------+---------+-------+-------+------+------+----+--------+--------+----+------+\n",
      "|year|month|day|dep_time|dep_delay|arr_time|arr_delay|carrier|tailnum|flight|origin|dest|air_time|distance|hour|minute|\n",
      "+----+-----+---+--------+---------+--------+---------+-------+-------+------+------+----+--------+--------+----+------+\n",
      "|2014|    1|  1|      NA|       NA|      NA|       NA|     AS| N763AS|    61|   SEA| JNU|      NA|     909|  NA|    NA|\n",
      "|2014|    1|  1|      NA|       NA|      NA|       NA|     OO| N237SW|  5428|   PDX| SEA|      NA|     129|  NA|    NA|\n",
      "|2014|    1|  1|      NA|       NA|      NA|       NA|     OO| N237SW|  5325|   SEA| PDX|      NA|     129|  NA|    NA|\n",
      "|2014|    1|  1|      NA|       NA|      NA|       NA|     OO| N585SW|  5353|   PDX| EUG|      NA|     106|  NA|    NA|\n",
      "|2014|    1|  1|      NA|       NA|      NA|       NA|     OO| N295SW|  5438|   SEA| PDX|      NA|     129|  NA|    NA|\n",
      "|2014|    1|  1|      NA|       NA|      NA|       NA|     OO| N295SW|  5379|   PDX| SEA|      NA|     129|  NA|    NA|\n",
      "|2014|    1|  1|      NA|       NA|      NA|       NA|     OO| N295SW|  5403|   PDX| EUG|      NA|     106|  NA|    NA|\n",
      "|2014|    1|  1|      NA|       NA|      NA|       NA|     OO| N918SW|  5639|   SEA| SFO|      NA|     679|  NA|    NA|\n",
      "|2014|    1|  1|      NA|       NA|      NA|       NA|     UA|   NULL|  1142|   SEA| EWR|      NA|    2402|  NA|    NA|\n",
      "|2014|    1|  1|      NA|       NA|      NA|       NA|     UA|   NULL|  1195|   SEA| DEN|      NA|    1024|  NA|    NA|\n",
      "|2014|    1|  1|      NA|       NA|      NA|       NA|     UA|   NULL|  1647|   PDX| ORD|      NA|    1739|  NA|    NA|\n",
      "|2014|    1|  2|      NA|       NA|      NA|       NA|     AS| N403AS|    14|   SEA| EWR|      NA|    2402|  NA|    NA|\n",
      "|2014|    1|  2|      NA|       NA|      NA|       NA|     AS| N549AS|    24|   SEA| BOS|      NA|    2496|  NA|    NA|\n",
      "|2014|    1|  2|      NA|       NA|      NA|       NA|     B6| N794JB|   598|   SEA| BOS|      NA|    2496|  NA|    NA|\n",
      "|2014|    1|  2|      NA|       NA|      NA|       NA|     B6| N623JB|   498|   SEA| BOS|      NA|    2496|  NA|    NA|\n",
      "|2014|    1|  2|      NA|       NA|      NA|       NA|     UA|   NULL|   212|   SEA| EWR|      NA|    2402|  NA|    NA|\n",
      "|2014|    1|  2|      NA|       NA|      NA|       NA|     UA|   NULL|   583|   PDX| EWR|      NA|    2434|  NA|    NA|\n",
      "|2014|    1|  2|      NA|       NA|      NA|       NA|     UA|   NULL|  1647|   PDX| ORD|      NA|    1739|  NA|    NA|\n",
      "|2014|    1|  2|      NA|       NA|      NA|       NA|     UA|   NULL|  1710|   SEA| EWR|      NA|    2402|  NA|    NA|\n",
      "|2014|    1|  2|      NA|       NA|      NA|       NA|     UA|   NULL|   817|   SEA| EWR|      NA|    2402|  NA|    NA|\n",
      "+----+-----+---+--------+---------+--------+---------+-------+-------+------+------+----+--------+--------+----+------+\n",
      "only showing top 20 rows\n",
      "\n"
     ]
    }
   ],
   "execution_count": 90
  },
  {
   "metadata": {
    "ExecuteTime": {
     "end_time": "2025-01-15T00:58:02.054154Z",
     "start_time": "2025-01-15T00:58:01.903372Z"
    }
   },
   "cell_type": "code",
   "source": "spark.sql(\"SELECT COUNT(dep_time) AS empty_dep_time FROM flights WHERE dep_time = 'NA'\").show()",
   "id": "ba6f657c80023520",
   "outputs": [
    {
     "name": "stdout",
     "output_type": "stream",
     "text": [
      "+--------------+\n",
      "|empty_dep_time|\n",
      "+--------------+\n",
      "|           857|\n",
      "+--------------+\n",
      "\n"
     ]
    }
   ],
   "execution_count": 91
  },
  {
   "metadata": {},
   "cell_type": "markdown",
   "source": [
    "## A Bit of Cleaning\n",
    "\n",
    "In the cells below, I'm only selecting the rows that **do not** contain any missing values. After that I cast the values of the columns inside the array `columns_to_clean` so we can train the data later."
   ],
   "id": "5e8405518385d895"
  },
  {
   "metadata": {
    "ExecuteTime": {
     "end_time": "2025-01-15T00:58:02.081485Z",
     "start_time": "2025-01-15T00:58:02.055662Z"
    }
   },
   "cell_type": "code",
   "source": [
    "columns_to_clean = [\"dep_time\", \"dep_delay\", \"arr_time\", \"arr_delay\", \"air_time\", \"hour\", \"minute\"]\n",
    "\n",
    "for col in columns_to_clean:\n",
    "    flights = flights.where(F.col(col) != \"NA\")"
   ],
   "id": "1dd84a168f0b366d",
   "outputs": [],
   "execution_count": 92
  },
  {
   "metadata": {
    "ExecuteTime": {
     "end_time": "2025-01-15T00:58:02.088026Z",
     "start_time": "2025-01-15T00:58:02.082890Z"
    }
   },
   "cell_type": "code",
   "source": [
    "# Casting\n",
    "flights.dtypes"
   ],
   "id": "f0c0bbf54dc53cb3",
   "outputs": [
    {
     "data": {
      "text/plain": [
       "[('year', 'int'),\n",
       " ('month', 'int'),\n",
       " ('day', 'int'),\n",
       " ('dep_time', 'string'),\n",
       " ('dep_delay', 'string'),\n",
       " ('arr_time', 'string'),\n",
       " ('arr_delay', 'string'),\n",
       " ('carrier', 'string'),\n",
       " ('tailnum', 'string'),\n",
       " ('flight', 'int'),\n",
       " ('origin', 'string'),\n",
       " ('dest', 'string'),\n",
       " ('air_time', 'string'),\n",
       " ('distance', 'int'),\n",
       " ('hour', 'string'),\n",
       " ('minute', 'string')]"
      ]
     },
     "execution_count": 93,
     "metadata": {},
     "output_type": "execute_result"
    }
   ],
   "execution_count": 93
  },
  {
   "metadata": {
    "ExecuteTime": {
     "end_time": "2025-01-15T00:58:02.178670Z",
     "start_time": "2025-01-15T00:58:02.089444Z"
    }
   },
   "cell_type": "code",
   "source": [
    "casted_flights = flights\n",
    "\n",
    "for c in columns_to_clean:\n",
    "    casted_flights = casted_flights.withColumn(c, F.col(c).cast(IntegerType()))\n",
    "    \n",
    "casted_flights = casted_flights.withColumn(\"arr_delay\", F.col(\"arr_delay\").cast(DoubleType()))\n",
    "casted_flights.dtypes"
   ],
   "id": "7375b3d0d4879f3d",
   "outputs": [
    {
     "data": {
      "text/plain": [
       "[('year', 'int'),\n",
       " ('month', 'int'),\n",
       " ('day', 'int'),\n",
       " ('dep_time', 'int'),\n",
       " ('dep_delay', 'int'),\n",
       " ('arr_time', 'int'),\n",
       " ('arr_delay', 'double'),\n",
       " ('carrier', 'string'),\n",
       " ('tailnum', 'string'),\n",
       " ('flight', 'int'),\n",
       " ('origin', 'string'),\n",
       " ('dest', 'string'),\n",
       " ('air_time', 'int'),\n",
       " ('distance', 'int'),\n",
       " ('hour', 'int'),\n",
       " ('minute', 'int')]"
      ]
     },
     "execution_count": 94,
     "metadata": {},
     "output_type": "execute_result"
    }
   ],
   "execution_count": 94
  },
  {
   "metadata": {},
   "cell_type": "markdown",
   "source": "## A Bit More of Data Exploration",
   "id": "522eb0c1c913aa8"
  },
  {
   "metadata": {
    "ExecuteTime": {
     "end_time": "2025-01-15T00:58:02.426855Z",
     "start_time": "2025-01-15T00:58:02.180667Z"
    }
   },
   "cell_type": "code",
   "source": "spark.sql(\"SELECT DISTINCT origin, COUNT(origin) FROM flights GROUP BY origin\").show()",
   "id": "dc9fc6967a5fb025",
   "outputs": [
    {
     "name": "stdout",
     "output_type": "stream",
     "text": [
      "+------+-------------+\n",
      "|origin|count(origin)|\n",
      "+------+-------------+\n",
      "|   SEA|       108714|\n",
      "|   PDX|        53335|\n",
      "+------+-------------+\n",
      "\n"
     ]
    }
   ],
   "execution_count": 95
  },
  {
   "metadata": {
    "ExecuteTime": {
     "end_time": "2025-01-15T00:58:02.640853Z",
     "start_time": "2025-01-15T00:58:02.431888Z"
    }
   },
   "cell_type": "code",
   "source": "spark.sql(\"SELECT DISTINCT origin from flights\").show()",
   "id": "243a1926dc9b2b15",
   "outputs": [
    {
     "name": "stdout",
     "output_type": "stream",
     "text": [
      "+------+\n",
      "|origin|\n",
      "+------+\n",
      "|   SEA|\n",
      "|   PDX|\n",
      "+------+\n",
      "\n"
     ]
    }
   ],
   "execution_count": 96
  },
  {
   "metadata": {
    "ExecuteTime": {
     "end_time": "2025-01-15T00:58:02.666293Z",
     "start_time": "2025-01-15T00:58:02.642600Z"
    }
   },
   "cell_type": "code",
   "source": [
    "casted_flights.createOrReplaceTempView(\"casted_flights\")\n",
    "spark.sql(\"DESCRIBE casted_flights\").show()"
   ],
   "id": "ab76402a7fa6a363",
   "outputs": [
    {
     "name": "stdout",
     "output_type": "stream",
     "text": [
      "+---------+---------+-------+\n",
      "| col_name|data_type|comment|\n",
      "+---------+---------+-------+\n",
      "|     year|      int|   NULL|\n",
      "|    month|      int|   NULL|\n",
      "|      day|      int|   NULL|\n",
      "| dep_time|      int|   NULL|\n",
      "|dep_delay|      int|   NULL|\n",
      "| arr_time|      int|   NULL|\n",
      "|arr_delay|   double|   NULL|\n",
      "|  carrier|   string|   NULL|\n",
      "|  tailnum|   string|   NULL|\n",
      "|   flight|      int|   NULL|\n",
      "|   origin|   string|   NULL|\n",
      "|     dest|   string|   NULL|\n",
      "| air_time|      int|   NULL|\n",
      "| distance|      int|   NULL|\n",
      "|     hour|      int|   NULL|\n",
      "|   minute|      int|   NULL|\n",
      "+---------+---------+-------+\n",
      "\n"
     ]
    }
   ],
   "execution_count": 97
  },
  {
   "metadata": {
    "ExecuteTime": {
     "end_time": "2025-01-15T00:58:02.765289Z",
     "start_time": "2025-01-15T00:58:02.668228Z"
    }
   },
   "cell_type": "code",
   "source": [
    "delayed_flights = spark.sql(\"SELECT * FROM casted_flights WHERE arr_delay > 0\")\n",
    "delayed_flights.show()"
   ],
   "id": "392466957f0a5f32",
   "outputs": [
    {
     "name": "stdout",
     "output_type": "stream",
     "text": [
      "+----+-----+---+--------+---------+--------+---------+-------+-------+------+------+----+--------+--------+----+------+\n",
      "|year|month|day|dep_time|dep_delay|arr_time|arr_delay|carrier|tailnum|flight|origin|dest|air_time|distance|hour|minute|\n",
      "+----+-----+---+--------+---------+--------+---------+-------+-------+------+------+----+--------+--------+----+------+\n",
      "|2014|    1|  1|       1|       96|     235|     70.0|     AS| N508AS|   145|   PDX| ANC|     194|    1542|   0|     1|\n",
      "|2014|    1|  1|      34|       44|     325|     43.0|     AS| N762AS|   121|   SEA| ANC|     201|    1448|   0|    34|\n",
      "|2014|    1|  1|      37|       82|     747|     88.0|     DL| N806DN|  1823|   SEA| DTW|     224|    1927|   0|    37|\n",
      "|2014|    1|  1|     346|      227|     936|    219.0|     UA| N14219|  1481|   SEA| ORD|     202|    1721|   3|    46|\n",
      "|2014|    1|  1|     526|       -4|    1148|     15.0|     UA| N813UA|   229|   PDX| IAH|     217|    1825|   5|    26|\n",
      "|2014|    1|  1|     527|        7|     917|     24.0|     UA| N75433|  1576|   SEA| DEN|     136|    1024|   5|    27|\n",
      "|2014|    1|  1|     541|        1|     911|      4.0|     UA| N36476|  1569|   PDX| DEN|     130|     991|   5|    41|\n",
      "|2014|    1|  1|     549|       24|     907|     12.0|     US| N548UW|   649|   PDX| PHX|     122|    1009|   5|    49|\n",
      "|2014|    1|  1|     602|       -3|     943|      5.0|     F9| N201FR|   144|   SEA| DEN|     129|    1024|   6|     2|\n",
      "|2014|    1|  1|     602|       -3|    1204|      7.0|     UA| N77295|  1573|   PDX| ORD|     203|    1739|   6|     2|\n",
      "|2014|    1|  1|     606|        6|     746|      3.0|     AS| N796AS|   406|   PDX| SJC|      87|     569|   6|     6|\n",
      "|2014|    1|  1|     632|       -3|    1235|      5.0|     WN| N8302F|  3694|   SEA| MDW|     204|    1733|   6|    32|\n",
      "|2014|    1|  1|     639|       -1|     918|      3.0|     AS| N794AS|   556|   SEA| PSP|     130|     987|   6|    39|\n",
      "|2014|    1|  1|     647|       -3|    1038|     19.0|     AS| N553AS|   682|   SEA| DEN|     136|    1024|   6|    47|\n",
      "|2014|    1|  1|     650|       90|    1037|     91.0|     US| N626AW|   460|   SEA| PHX|     141|    1107|   6|    50|\n",
      "|2014|    1|  1|     656|       -4|     853|      8.0|     VX| N523VA|   805|   PDX| SFO|      82|     550|   6|    56|\n",
      "|2014|    1|  1|     705|        0|     931|      9.0|     B6| N627JB|  1121|   PDX| LGB|     113|     846|   7|     5|\n",
      "|2014|    1|  1|     713|       20|    1317|     10.0|     UA| N854UA|   461|   SEA| IAH|     218|    1874|   7|    13|\n",
      "|2014|    1|  1|     722|       -3|     933|      3.0|     WN| N407WN|   947|   PDX| LAS|     101|     763|   7|    22|\n",
      "|2014|    1|  1|     726|        1|    1117|     17.0|     WN| N603SW|  2181|   SEA| DEN|     133|    1024|   7|    26|\n",
      "+----+-----+---+--------+---------+--------+---------+-------+-------+------+------+----+--------+--------+----+------+\n",
      "only showing top 20 rows\n",
      "\n"
     ]
    }
   ],
   "execution_count": 98
  },
  {
   "metadata": {
    "ExecuteTime": {
     "end_time": "2025-01-15T00:58:03.140841Z",
     "start_time": "2025-01-15T00:58:02.767292Z"
    }
   },
   "cell_type": "code",
   "source": [
    "delayed_flights.createOrReplaceTempView(\"delayed_flights\")\n",
    "avg_delay = spark.sql(\"SELECT dest, AVG(arr_delay) AS avg_delay FROM delayed_flights GROUP BY dest ORDER BY avg_delay DESC\").show()"
   ],
   "id": "80626d2f06e506a4",
   "outputs": [
    {
     "name": "stdout",
     "output_type": "stream",
     "text": [
      "+----+------------------+\n",
      "|dest|         avg_delay|\n",
      "+----+------------------+\n",
      "| BOI|             64.75|\n",
      "| HDN|              46.8|\n",
      "| SFO|41.193768844221104|\n",
      "| CLE| 35.74193548387097|\n",
      "| SBA|35.391752577319586|\n",
      "| COS| 35.05607476635514|\n",
      "| BWI|34.585798816568044|\n",
      "| EWR| 33.52972258916777|\n",
      "| DFW| 33.27519181585678|\n",
      "| MIA| 32.66187050359712|\n",
      "| ORD| 32.47909024211299|\n",
      "| BNA| 31.94871794871795|\n",
      "| JFK|31.255884586180713|\n",
      "| JAC|             30.25|\n",
      "| PHL|29.245989304812834|\n",
      "| OGG|27.511111111111113|\n",
      "| IAD|27.430875576036865|\n",
      "| HOU| 27.33009708737864|\n",
      "| LGB| 27.07634730538922|\n",
      "| FAT|26.852589641434264|\n",
      "+----+------------------+\n",
      "only showing top 20 rows\n",
      "\n"
     ]
    }
   ],
   "execution_count": 99
  },
  {
   "metadata": {},
   "cell_type": "markdown",
   "source": "## Preparing the Data for the Model",
   "id": "1af64b46f2e1f34b"
  },
  {
   "metadata": {
    "ExecuteTime": {
     "end_time": "2025-01-15T00:58:03.204421Z",
     "start_time": "2025-01-15T00:58:03.142493Z"
    }
   },
   "cell_type": "code",
   "source": "casted_flights.show()",
   "id": "804d71592156ba96",
   "outputs": [
    {
     "name": "stdout",
     "output_type": "stream",
     "text": [
      "+----+-----+---+--------+---------+--------+---------+-------+-------+------+------+----+--------+--------+----+------+\n",
      "|year|month|day|dep_time|dep_delay|arr_time|arr_delay|carrier|tailnum|flight|origin|dest|air_time|distance|hour|minute|\n",
      "+----+-----+---+--------+---------+--------+---------+-------+-------+------+------+----+--------+--------+----+------+\n",
      "|2014|    1|  1|       1|       96|     235|     70.0|     AS| N508AS|   145|   PDX| ANC|     194|    1542|   0|     1|\n",
      "|2014|    1|  1|       4|       -6|     738|    -23.0|     US| N195UW|  1830|   SEA| CLT|     252|    2279|   0|     4|\n",
      "|2014|    1|  1|       8|       13|     548|     -4.0|     UA| N37422|  1609|   PDX| IAH|     201|    1825|   0|     8|\n",
      "|2014|    1|  1|      28|       -2|     800|    -23.0|     US| N547UW|   466|   PDX| CLT|     251|    2282|   0|    28|\n",
      "|2014|    1|  1|      34|       44|     325|     43.0|     AS| N762AS|   121|   SEA| ANC|     201|    1448|   0|    34|\n",
      "|2014|    1|  1|      37|       82|     747|     88.0|     DL| N806DN|  1823|   SEA| DTW|     224|    1927|   0|    37|\n",
      "|2014|    1|  1|     346|      227|     936|    219.0|     UA| N14219|  1481|   SEA| ORD|     202|    1721|   3|    46|\n",
      "|2014|    1|  1|     526|       -4|    1148|     15.0|     UA| N813UA|   229|   PDX| IAH|     217|    1825|   5|    26|\n",
      "|2014|    1|  1|     527|        7|     917|     24.0|     UA| N75433|  1576|   SEA| DEN|     136|    1024|   5|    27|\n",
      "|2014|    1|  1|     536|        1|    1334|     -6.0|     UA| N574UA|   478|   SEA| EWR|     268|    2402|   5|    36|\n",
      "|2014|    1|  1|     541|        1|     911|      4.0|     UA| N36476|  1569|   PDX| DEN|     130|     991|   5|    41|\n",
      "|2014|    1|  1|     549|       24|     907|     12.0|     US| N548UW|   649|   PDX| PHX|     122|    1009|   5|    49|\n",
      "|2014|    1|  1|     550|        0|     837|    -12.0|     DL| N660DL|  1634|   SEA| SLC|      82|     689|   5|    50|\n",
      "|2014|    1|  1|     557|       -3|    1134|    -16.0|     AA| N3JLAA|  1094|   SEA| DFW|     184|    1660|   5|    57|\n",
      "|2014|    1|  1|     557|       -3|     825|    -25.0|     AS| N562AS|    81|   SEA| ANC|     188|    1448|   5|    57|\n",
      "|2014|    1|  1|     558|       -2|     801|     -2.0|     AS| N402AS|   200|   SEA| SJC|     100|     697|   5|    58|\n",
      "|2014|    1|  1|     559|       -1|     916|     -9.0|     F9| N210FR|   796|   PDX| DEN|     125|     991|   5|    59|\n",
      "|2014|    1|  1|     600|        0|    1151|    -19.0|     AA| N3JFAA|  2240|   SEA| ORD|     206|    1721|   6|     0|\n",
      "|2014|    1|  1|     600|      -10|     842|     -8.0|     AS| N786AS|   426|   SEA| LAX|     125|     954|   6|     0|\n",
      "|2014|    1|  1|     602|       -3|     943|      5.0|     F9| N201FR|   144|   SEA| DEN|     129|    1024|   6|     2|\n",
      "+----+-----+---+--------+---------+--------+---------+-------+-------+------+------+----+--------+--------+----+------+\n",
      "only showing top 20 rows\n",
      "\n"
     ]
    }
   ],
   "execution_count": 100
  },
  {
   "metadata": {
    "ExecuteTime": {
     "end_time": "2025-01-15T00:58:03.223968Z",
     "start_time": "2025-01-15T00:58:03.206041Z"
    }
   },
   "cell_type": "code",
   "source": [
    "data_inputs = [\"month\", \"day\", \"dep_time\", \"arr_time\", \"carrier\", \"distance\", \"air_time\", \"arr_delay\"]\n",
    "training_data = casted_flights.select(data_inputs)"
   ],
   "id": "5fee3a697bd5517",
   "outputs": [],
   "execution_count": 101
  },
  {
   "metadata": {
    "ExecuteTime": {
     "end_time": "2025-01-15T00:58:03.297413Z",
     "start_time": "2025-01-15T00:58:03.225317Z"
    }
   },
   "cell_type": "code",
   "source": "training_data.show()",
   "id": "b85139bd2d5c6d7e",
   "outputs": [
    {
     "name": "stdout",
     "output_type": "stream",
     "text": [
      "+-----+---+--------+--------+-------+--------+--------+---------+\n",
      "|month|day|dep_time|arr_time|carrier|distance|air_time|arr_delay|\n",
      "+-----+---+--------+--------+-------+--------+--------+---------+\n",
      "|    1|  1|       1|     235|     AS|    1542|     194|     70.0|\n",
      "|    1|  1|       4|     738|     US|    2279|     252|    -23.0|\n",
      "|    1|  1|       8|     548|     UA|    1825|     201|     -4.0|\n",
      "|    1|  1|      28|     800|     US|    2282|     251|    -23.0|\n",
      "|    1|  1|      34|     325|     AS|    1448|     201|     43.0|\n",
      "|    1|  1|      37|     747|     DL|    1927|     224|     88.0|\n",
      "|    1|  1|     346|     936|     UA|    1721|     202|    219.0|\n",
      "|    1|  1|     526|    1148|     UA|    1825|     217|     15.0|\n",
      "|    1|  1|     527|     917|     UA|    1024|     136|     24.0|\n",
      "|    1|  1|     536|    1334|     UA|    2402|     268|     -6.0|\n",
      "|    1|  1|     541|     911|     UA|     991|     130|      4.0|\n",
      "|    1|  1|     549|     907|     US|    1009|     122|     12.0|\n",
      "|    1|  1|     550|     837|     DL|     689|      82|    -12.0|\n",
      "|    1|  1|     557|    1134|     AA|    1660|     184|    -16.0|\n",
      "|    1|  1|     557|     825|     AS|    1448|     188|    -25.0|\n",
      "|    1|  1|     558|     801|     AS|     697|     100|     -2.0|\n",
      "|    1|  1|     559|     916|     F9|     991|     125|     -9.0|\n",
      "|    1|  1|     600|    1151|     AA|    1721|     206|    -19.0|\n",
      "|    1|  1|     600|     842|     AS|     954|     125|     -8.0|\n",
      "|    1|  1|     602|     943|     F9|    1024|     129|      5.0|\n",
      "+-----+---+--------+--------+-------+--------+--------+---------+\n",
      "only showing top 20 rows\n",
      "\n"
     ]
    }
   ],
   "execution_count": 102
  },
  {
   "metadata": {
    "ExecuteTime": {
     "end_time": "2025-01-15T00:58:03.309034Z",
     "start_time": "2025-01-15T00:58:03.299134Z"
    }
   },
   "cell_type": "code",
   "source": [
    "from pyspark.ml.feature import StringIndexer\n",
    "indexer_month = StringIndexer(inputCol=\"month\", outputCol=\"month_indexed\")\n",
    "indexer_carrier = StringIndexer(inputCol=\"carrier\", outputCol=\"carrier_indexed\")"
   ],
   "id": "c723986f0e97da0e",
   "outputs": [],
   "execution_count": 103
  },
  {
   "metadata": {
    "ExecuteTime": {
     "end_time": "2025-01-15T00:58:04.132452Z",
     "start_time": "2025-01-15T00:58:03.310255Z"
    }
   },
   "cell_type": "code",
   "source": [
    "# Fit and transform 'month' and 'carrier'\n",
    "flights_indexed = indexer_month.fit(training_data).transform(training_data)\n",
    "flights_indexed = indexer_carrier.fit(flights_indexed).transform(flights_indexed)\n",
    "\n",
    "# Check the result\n",
    "flights_indexed.select(\"month\", \"month_indexed\", \"carrier\", \"carrier_indexed\").show(5)"
   ],
   "id": "43c3be9796425446",
   "outputs": [
    {
     "name": "stdout",
     "output_type": "stream",
     "text": [
      "+-----+-------------+-------+---------------+\n",
      "|month|month_indexed|carrier|carrier_indexed|\n",
      "+-----+-------------+-------+---------------+\n",
      "|    1|         10.0|     AS|            0.0|\n",
      "|    1|         10.0|     US|            6.0|\n",
      "|    1|         10.0|     UA|            4.0|\n",
      "|    1|         10.0|     US|            6.0|\n",
      "|    1|         10.0|     AS|            0.0|\n",
      "+-----+-------------+-------+---------------+\n",
      "only showing top 5 rows\n",
      "\n"
     ]
    }
   ],
   "execution_count": 104
  },
  {
   "metadata": {
    "ExecuteTime": {
     "end_time": "2025-01-15T00:58:04.247761Z",
     "start_time": "2025-01-15T00:58:04.133999Z"
    }
   },
   "cell_type": "code",
   "source": [
    "from pyspark.ml.feature import VectorAssembler\n",
    "columns = [\"day\", \"dep_time\", \"arr_time\", \"distance\", \"air_time\", \"month_indexed\", \"carrier_indexed\"]\n",
    "assembler = VectorAssembler(inputCols=columns, outputCol=\"features\")\n",
    "input_variables_transformed = assembler.transform(flights_indexed)\n",
    "input_variables_transformed.show()"
   ],
   "id": "d7ea19569c002d55",
   "outputs": [
    {
     "name": "stdout",
     "output_type": "stream",
     "text": [
      "+-----+---+--------+--------+-------+--------+--------+---------+-------------+---------------+--------------------+\n",
      "|month|day|dep_time|arr_time|carrier|distance|air_time|arr_delay|month_indexed|carrier_indexed|            features|\n",
      "+-----+---+--------+--------+-------+--------+--------+---------+-------------+---------------+--------------------+\n",
      "|    1|  1|       1|     235|     AS|    1542|     194|     70.0|         10.0|            0.0|[1.0,1.0,235.0,15...|\n",
      "|    1|  1|       4|     738|     US|    2279|     252|    -23.0|         10.0|            6.0|[1.0,4.0,738.0,22...|\n",
      "|    1|  1|       8|     548|     UA|    1825|     201|     -4.0|         10.0|            4.0|[1.0,8.0,548.0,18...|\n",
      "|    1|  1|      28|     800|     US|    2282|     251|    -23.0|         10.0|            6.0|[1.0,28.0,800.0,2...|\n",
      "|    1|  1|      34|     325|     AS|    1448|     201|     43.0|         10.0|            0.0|[1.0,34.0,325.0,1...|\n",
      "|    1|  1|      37|     747|     DL|    1927|     224|     88.0|         10.0|            3.0|[1.0,37.0,747.0,1...|\n",
      "|    1|  1|     346|     936|     UA|    1721|     202|    219.0|         10.0|            4.0|[1.0,346.0,936.0,...|\n",
      "|    1|  1|     526|    1148|     UA|    1825|     217|     15.0|         10.0|            4.0|[1.0,526.0,1148.0...|\n",
      "|    1|  1|     527|     917|     UA|    1024|     136|     24.0|         10.0|            4.0|[1.0,527.0,917.0,...|\n",
      "|    1|  1|     536|    1334|     UA|    2402|     268|     -6.0|         10.0|            4.0|[1.0,536.0,1334.0...|\n",
      "|    1|  1|     541|     911|     UA|     991|     130|      4.0|         10.0|            4.0|[1.0,541.0,911.0,...|\n",
      "|    1|  1|     549|     907|     US|    1009|     122|     12.0|         10.0|            6.0|[1.0,549.0,907.0,...|\n",
      "|    1|  1|     550|     837|     DL|     689|      82|    -12.0|         10.0|            3.0|[1.0,550.0,837.0,...|\n",
      "|    1|  1|     557|    1134|     AA|    1660|     184|    -16.0|         10.0|            5.0|[1.0,557.0,1134.0...|\n",
      "|    1|  1|     557|     825|     AS|    1448|     188|    -25.0|         10.0|            0.0|[1.0,557.0,825.0,...|\n",
      "|    1|  1|     558|     801|     AS|     697|     100|     -2.0|         10.0|            0.0|[1.0,558.0,801.0,...|\n",
      "|    1|  1|     559|     916|     F9|     991|     125|     -9.0|         10.0|            9.0|[1.0,559.0,916.0,...|\n",
      "|    1|  1|     600|    1151|     AA|    1721|     206|    -19.0|         10.0|            5.0|[1.0,600.0,1151.0...|\n",
      "|    1|  1|     600|     842|     AS|     954|     125|     -8.0|         10.0|            0.0|[1.0,600.0,842.0,...|\n",
      "|    1|  1|     602|     943|     F9|    1024|     129|      5.0|         10.0|            9.0|[1.0,602.0,943.0,...|\n",
      "+-----+---+--------+--------+-------+--------+--------+---------+-------------+---------------+--------------------+\n",
      "only showing top 20 rows\n",
      "\n"
     ]
    }
   ],
   "execution_count": 105
  },
  {
   "metadata": {
    "ExecuteTime": {
     "end_time": "2025-01-15T00:58:04.363460Z",
     "start_time": "2025-01-15T00:58:04.249119Z"
    }
   },
   "cell_type": "code",
   "source": [
    "from pyspark.ml.feature import Binarizer\n",
    "binarizer = Binarizer(inputCol=\"arr_delay\", outputCol=\"arr_delay_binary\", threshold=15)\n",
    "input_variables_transformed = binarizer.transform(input_variables_transformed)\n",
    "input_variables_transformed.show()"
   ],
   "id": "1241561e25267c51",
   "outputs": [
    {
     "name": "stdout",
     "output_type": "stream",
     "text": [
      "+-----+---+--------+--------+-------+--------+--------+---------+-------------+---------------+--------------------+----------------+\n",
      "|month|day|dep_time|arr_time|carrier|distance|air_time|arr_delay|month_indexed|carrier_indexed|            features|arr_delay_binary|\n",
      "+-----+---+--------+--------+-------+--------+--------+---------+-------------+---------------+--------------------+----------------+\n",
      "|    1|  1|       1|     235|     AS|    1542|     194|     70.0|         10.0|            0.0|[1.0,1.0,235.0,15...|             1.0|\n",
      "|    1|  1|       4|     738|     US|    2279|     252|    -23.0|         10.0|            6.0|[1.0,4.0,738.0,22...|             0.0|\n",
      "|    1|  1|       8|     548|     UA|    1825|     201|     -4.0|         10.0|            4.0|[1.0,8.0,548.0,18...|             0.0|\n",
      "|    1|  1|      28|     800|     US|    2282|     251|    -23.0|         10.0|            6.0|[1.0,28.0,800.0,2...|             0.0|\n",
      "|    1|  1|      34|     325|     AS|    1448|     201|     43.0|         10.0|            0.0|[1.0,34.0,325.0,1...|             1.0|\n",
      "|    1|  1|      37|     747|     DL|    1927|     224|     88.0|         10.0|            3.0|[1.0,37.0,747.0,1...|             1.0|\n",
      "|    1|  1|     346|     936|     UA|    1721|     202|    219.0|         10.0|            4.0|[1.0,346.0,936.0,...|             1.0|\n",
      "|    1|  1|     526|    1148|     UA|    1825|     217|     15.0|         10.0|            4.0|[1.0,526.0,1148.0...|             0.0|\n",
      "|    1|  1|     527|     917|     UA|    1024|     136|     24.0|         10.0|            4.0|[1.0,527.0,917.0,...|             1.0|\n",
      "|    1|  1|     536|    1334|     UA|    2402|     268|     -6.0|         10.0|            4.0|[1.0,536.0,1334.0...|             0.0|\n",
      "|    1|  1|     541|     911|     UA|     991|     130|      4.0|         10.0|            4.0|[1.0,541.0,911.0,...|             0.0|\n",
      "|    1|  1|     549|     907|     US|    1009|     122|     12.0|         10.0|            6.0|[1.0,549.0,907.0,...|             0.0|\n",
      "|    1|  1|     550|     837|     DL|     689|      82|    -12.0|         10.0|            3.0|[1.0,550.0,837.0,...|             0.0|\n",
      "|    1|  1|     557|    1134|     AA|    1660|     184|    -16.0|         10.0|            5.0|[1.0,557.0,1134.0...|             0.0|\n",
      "|    1|  1|     557|     825|     AS|    1448|     188|    -25.0|         10.0|            0.0|[1.0,557.0,825.0,...|             0.0|\n",
      "|    1|  1|     558|     801|     AS|     697|     100|     -2.0|         10.0|            0.0|[1.0,558.0,801.0,...|             0.0|\n",
      "|    1|  1|     559|     916|     F9|     991|     125|     -9.0|         10.0|            9.0|[1.0,559.0,916.0,...|             0.0|\n",
      "|    1|  1|     600|    1151|     AA|    1721|     206|    -19.0|         10.0|            5.0|[1.0,600.0,1151.0...|             0.0|\n",
      "|    1|  1|     600|     842|     AS|     954|     125|     -8.0|         10.0|            0.0|[1.0,600.0,842.0,...|             0.0|\n",
      "|    1|  1|     602|     943|     F9|    1024|     129|      5.0|         10.0|            9.0|[1.0,602.0,943.0,...|             0.0|\n",
      "+-----+---+--------+--------+-------+--------+--------+---------+-------------+---------------+--------------------+----------------+\n",
      "only showing top 20 rows\n",
      "\n"
     ]
    }
   ],
   "execution_count": 106
  },
  {
   "metadata": {
    "ExecuteTime": {
     "end_time": "2025-01-15T00:58:04.465201Z",
     "start_time": "2025-01-15T00:58:04.364891Z"
    }
   },
   "cell_type": "code",
   "source": [
    "model_df = input_variables_transformed.select(\"features\", \"arr_delay_binary\")\n",
    "model_df.show()"
   ],
   "id": "2405d4f11123cd22",
   "outputs": [
    {
     "name": "stdout",
     "output_type": "stream",
     "text": [
      "+--------------------+----------------+\n",
      "|            features|arr_delay_binary|\n",
      "+--------------------+----------------+\n",
      "|[1.0,1.0,235.0,15...|             1.0|\n",
      "|[1.0,4.0,738.0,22...|             0.0|\n",
      "|[1.0,8.0,548.0,18...|             0.0|\n",
      "|[1.0,28.0,800.0,2...|             0.0|\n",
      "|[1.0,34.0,325.0,1...|             1.0|\n",
      "|[1.0,37.0,747.0,1...|             1.0|\n",
      "|[1.0,346.0,936.0,...|             1.0|\n",
      "|[1.0,526.0,1148.0...|             0.0|\n",
      "|[1.0,527.0,917.0,...|             1.0|\n",
      "|[1.0,536.0,1334.0...|             0.0|\n",
      "|[1.0,541.0,911.0,...|             0.0|\n",
      "|[1.0,549.0,907.0,...|             0.0|\n",
      "|[1.0,550.0,837.0,...|             0.0|\n",
      "|[1.0,557.0,1134.0...|             0.0|\n",
      "|[1.0,557.0,825.0,...|             0.0|\n",
      "|[1.0,558.0,801.0,...|             0.0|\n",
      "|[1.0,559.0,916.0,...|             0.0|\n",
      "|[1.0,600.0,1151.0...|             0.0|\n",
      "|[1.0,600.0,842.0,...|             0.0|\n",
      "|[1.0,602.0,943.0,...|             0.0|\n",
      "+--------------------+----------------+\n",
      "only showing top 20 rows\n",
      "\n"
     ]
    }
   ],
   "execution_count": 107
  },
  {
   "metadata": {
    "ExecuteTime": {
     "end_time": "2025-01-15T00:58:06.254935Z",
     "start_time": "2025-01-15T00:58:04.466686Z"
    }
   },
   "cell_type": "code",
   "source": [
    "from pyspark.ml.classification import DecisionTreeClassifier\n",
    "from pyspark.ml.evaluation import MulticlassClassificationEvaluator\n",
    "dt = DecisionTreeClassifier(labelCol=\"arr_delay_binary\", featuresCol=\"features\")\n",
    "dt_model = dt.fit(model_df)"
   ],
   "id": "8f8d52a722dc76ad",
   "outputs": [],
   "execution_count": 108
  },
  {
   "metadata": {
    "ExecuteTime": {
     "end_time": "2025-01-15T00:58:06.435363Z",
     "start_time": "2025-01-15T00:58:06.256577Z"
    }
   },
   "cell_type": "code",
   "source": [
    "predictions_df = dt_model.transform(model_df)\n",
    "predictions_df.show()"
   ],
   "id": "67544ba232e284c8",
   "outputs": [
    {
     "name": "stdout",
     "output_type": "stream",
     "text": [
      "+--------------------+----------------+----------------+--------------------+----------+\n",
      "|            features|arr_delay_binary|   rawPrediction|         probability|prediction|\n",
      "+--------------------+----------------+----------------+--------------------+----------+\n",
      "|[1.0,1.0,235.0,15...|             1.0|[49493.0,4317.0]|[0.91977327634268...|       0.0|\n",
      "|[1.0,4.0,738.0,22...|             0.0|[49493.0,4317.0]|[0.91977327634268...|       0.0|\n",
      "|[1.0,8.0,548.0,18...|             0.0|[49493.0,4317.0]|[0.91977327634268...|       0.0|\n",
      "|[1.0,28.0,800.0,2...|             0.0|[49493.0,4317.0]|[0.91977327634268...|       0.0|\n",
      "|[1.0,34.0,325.0,1...|             1.0|[49493.0,4317.0]|[0.91977327634268...|       0.0|\n",
      "|[1.0,37.0,747.0,1...|             1.0|[49493.0,4317.0]|[0.91977327634268...|       0.0|\n",
      "|[1.0,346.0,936.0,...|             1.0|[49493.0,4317.0]|[0.91977327634268...|       0.0|\n",
      "|[1.0,526.0,1148.0...|             0.0|[49493.0,4317.0]|[0.91977327634268...|       0.0|\n",
      "|[1.0,527.0,917.0,...|             1.0|[49493.0,4317.0]|[0.91977327634268...|       0.0|\n",
      "|[1.0,536.0,1334.0...|             0.0|[49493.0,4317.0]|[0.91977327634268...|       0.0|\n",
      "|[1.0,541.0,911.0,...|             0.0|[49493.0,4317.0]|[0.91977327634268...|       0.0|\n",
      "|[1.0,549.0,907.0,...|             0.0|[49493.0,4317.0]|[0.91977327634268...|       0.0|\n",
      "|[1.0,550.0,837.0,...|             0.0|[49493.0,4317.0]|[0.91977327634268...|       0.0|\n",
      "|[1.0,557.0,1134.0...|             0.0|[49493.0,4317.0]|[0.91977327634268...|       0.0|\n",
      "|[1.0,557.0,825.0,...|             0.0|[49493.0,4317.0]|[0.91977327634268...|       0.0|\n",
      "|[1.0,558.0,801.0,...|             0.0|[49493.0,4317.0]|[0.91977327634268...|       0.0|\n",
      "|[1.0,559.0,916.0,...|             0.0|[49493.0,4317.0]|[0.91977327634268...|       0.0|\n",
      "|[1.0,600.0,1151.0...|             0.0|[49493.0,4317.0]|[0.91977327634268...|       0.0|\n",
      "|[1.0,600.0,842.0,...|             0.0|[49493.0,4317.0]|[0.91977327634268...|       0.0|\n",
      "|[1.0,602.0,943.0,...|             0.0|[49493.0,4317.0]|[0.91977327634268...|       0.0|\n",
      "+--------------------+----------------+----------------+--------------------+----------+\n",
      "only showing top 20 rows\n",
      "\n"
     ]
    }
   ],
   "execution_count": 109
  },
  {
   "metadata": {},
   "cell_type": "markdown",
   "source": "## Pipeline",
   "id": "156e5b905f56a865"
  },
  {
   "metadata": {
    "ExecuteTime": {
     "end_time": "2025-01-15T01:02:39.668239Z",
     "start_time": "2025-01-15T01:02:35.738857Z"
    }
   },
   "cell_type": "code",
   "source": [
    "from pyspark.ml import Pipeline\n",
    "\n",
    "pipeline = Pipeline(stages=[indexer_month, indexer_carrier, binarizer, assembler, dt])\n",
    "pipeline_model = pipeline.fit(training_data)  \n",
    "predictions = pipeline_model.transform(training_data)\n",
    "accuracy = MulticlassClassificationEvaluator(labelCol=\"arr_delay_binary\", predictionCol=\"prediction\", metricName=\"accuracy\").evaluate(predictions_df)\n",
    "precision = MulticlassClassificationEvaluator(labelCol=\"arr_delay_binary\", predictionCol=\"prediction\", metricName=\"weightedPrecision\").evaluate(predictions_df)\n",
    "recall = MulticlassClassificationEvaluator(labelCol=\"arr_delay_binary\", predictionCol=\"prediction\", metricName=\"weightedRecall\").evaluate(predictions_df)\n",
    "print(f\"Accuracy Score: {accuracy}\")\n",
    "print(f\"Precision Score: {precision}\")"
   ],
   "id": "ef902bbeef8cf1ff",
   "outputs": [
    {
     "name": "stdout",
     "output_type": "stream",
     "text": [
      "Accuracy Score: 0.8520168213601413\n",
      "Precision Score: 0.8429140372765644\n"
     ]
    }
   ],
   "execution_count": 115
  },
  {
   "metadata": {},
   "cell_type": "markdown",
   "source": "## Confusion Matrix",
   "id": "378bac71b97b827a"
  },
  {
   "metadata": {
    "ExecuteTime": {
     "end_time": "2025-01-15T00:58:10.575933Z",
     "start_time": "2025-01-15T00:58:09.724886Z"
    }
   },
   "cell_type": "code",
   "source": [
    "from pyspark.mllib.evaluation import MulticlassMetrics\n",
    "from pyspark.sql.functions import col\n",
    "import pandas as pd\n",
    "\n",
    "# Step 1: Select prediction and actual label columns\n",
    "prediction_and_labels = predictions.select(\n",
    "    col(\"prediction\").cast(\"double\"),\n",
    "    col(\"arr_delay_binary\").cast(\"double\")\n",
    ")\n",
    "\n",
    "# Step 2: Convert to RDD for MulticlassMetrics\n",
    "preds_and_labels_rdd = prediction_and_labels.rdd.map(tuple)\n",
    "\n",
    "# Step 3: Initialize MulticlassMetrics\n",
    "metrics = MulticlassMetrics(preds_and_labels_rdd)\n",
    "\n",
    "# Step 4: Print the Confusion Matrix\n",
    "confusion_matrix = metrics.confusionMatrix().toArray()\n",
    "\n",
    "cm_df = pd.DataFrame(\n",
    "    confusion_matrix,\n",
    "    index=[\"Actual On-Time (0)\", \"Actual Delayed (1)\"],\n",
    "    columns=[\"Predicted On-Time (0)\", \"Predicted Delayed (1)\"]\n",
    ")\n",
    "\n",
    "print(\"Confusion Matrix:\\n\", cm_df)\n"
   ],
   "id": "1146cc8891068641",
   "outputs": [
    {
     "name": "stderr",
     "output_type": "stream",
     "text": [
      "/Users/jorgecontreras/anaconda3/lib/python3.11/site-packages/pyspark/sql/context.py:158: FutureWarning: Deprecated in 3.0.0. Use SparkSession.builder.getOrCreate() instead.\n",
      "  warnings.warn(\n"
     ]
    },
    {
     "name": "stdout",
     "output_type": "stream",
     "text": [
      "Confusion Matrix:\n",
      "                     Predicted On-Time (0)  Predicted Delayed (1)\n",
      "Actual On-Time (0)               136332.0                  167.0\n",
      "Actual Delayed (1)                23621.0                  628.0\n"
     ]
    }
   ],
   "execution_count": 111
  },
  {
   "metadata": {},
   "cell_type": "markdown",
   "source": [
    "## Confusion Matrix Breakdown\n",
    "\n",
    "- **True Negatives (TN):** 136,092 → Flights correctly predicted as on time\n",
    "- **False Positives (FP):** 407 → Flights predicted as delayed but were actually on time\n",
    "- **False Negatives (FN):** 23,202 → Flights predicted as on time but were actually delayed\n",
    "- **True Positives (TP):** 1,047 → Flights correctly predicted as delayed\n"
   ],
   "id": "16ce01bee4142546"
  },
  {
   "metadata": {},
   "cell_type": "markdown",
   "source": [
    "## **Conclusion**\n",
    "\n",
    "The model demonstrates a strong ability to predict on-time flights but struggles significantly with identifying delayed flights. While the **overall accuracy** is high (~85.4%), the **recall** for delayed flights is critically low (~4.3%), indicating that the model fails to detect most actual delays. The **precision** (~72%) suggests that when the model does predict a delay, it is often correct, but this comes at the cost of missing many delayed flights due to a high number of **false negatives**.\n",
    "\n",
    "To improve the model's performance, especially in detecting delays, several strategies should be considered:\n",
    "- **Address Class Imbalance:** Implement oversampling or class weighting to balance the representation of delayed and on-time flights.  \n",
    "- **Threshold Adjustment:** Lower the binarization threshold to capture more delayed flights.  \n",
    "- **Feature Engineering:** Incorporate additional features like weather conditions, holidays, and day-of-week trends.  \n",
    "- **Model Tuning:** Experiment with more complex models (e.g., Random Forest, Gradient Boosting) and perform hyperparameter optimization.\n",
    "\n",
    "By implementing these improvements, the model can achieve a better balance between **precision** and **recall**, ultimately enhancing its ability to accurately predict flight delays and provide more reliable insights for decision-making.\n"
   ],
   "id": "87c6077f316048db"
  },
  {
   "metadata": {},
   "cell_type": "code",
   "outputs": [],
   "execution_count": null,
   "source": "",
   "id": "f1b7ec31cb7619da"
  }
 ],
 "metadata": {
  "kernelspec": {
   "display_name": "Python 3",
   "language": "python",
   "name": "python3"
  },
  "language_info": {
   "codemirror_mode": {
    "name": "ipython",
    "version": 2
   },
   "file_extension": ".py",
   "mimetype": "text/x-python",
   "name": "python",
   "nbconvert_exporter": "python",
   "pygments_lexer": "ipython2",
   "version": "2.7.6"
  }
 },
 "nbformat": 4,
 "nbformat_minor": 5
}
