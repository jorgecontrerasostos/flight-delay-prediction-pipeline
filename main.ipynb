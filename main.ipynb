{
 "cells": [
  {
   "metadata": {},
   "cell_type": "markdown",
   "source": "## Create Spark's Session",
   "id": "4890e83ab56e3321"
  },
  {
   "metadata": {
    "ExecuteTime": {
     "end_time": "2025-01-15T02:55:42.830158Z",
     "start_time": "2025-01-15T02:55:42.827270Z"
    }
   },
   "cell_type": "code",
   "source": [
    "from pyspark.sql import SparkSession\n",
    "from pyspark import SparkContext\n",
    "from pyspark.sql import functions as F\n",
    "from pyspark.sql.types import IntegerType, DoubleType"
   ],
   "id": "116cca073ce5b60b",
   "outputs": [],
   "execution_count": 27
  },
  {
   "metadata": {
    "ExecuteTime": {
     "end_time": "2025-01-15T02:55:42.996326Z",
     "start_time": "2025-01-15T02:55:42.988746Z"
    }
   },
   "cell_type": "code",
   "source": [
    "spark = SparkSession.builder.appName(\"Flights Data Pipeline\").config(\"spark.driver.bindAddress\", \"127.0.0.1\").config(\"spark.driver.port\", \"4040\").getOrCreate()\n",
    "sc = spark.sparkContext.setLogLevel(\"WARN\")"
   ],
   "id": "ca744ab23815fef8",
   "outputs": [],
   "execution_count": 28
  },
  {
   "metadata": {},
   "cell_type": "markdown",
   "source": "## Read CSV and Create `flights` Temporary View",
   "id": "caefe239e054e8bd"
  },
  {
   "metadata": {
    "ExecuteTime": {
     "end_time": "2025-01-15T02:55:48.955550Z",
     "start_time": "2025-01-15T02:55:43.019382Z"
    }
   },
   "cell_type": "code",
   "source": [
    "flights = spark.read.csv(\"flights.csv\", header=True, inferSchema=True)\n",
    "flights.createOrReplaceTempView(\"flights\")"
   ],
   "id": "2ac7ecaac7350fd4",
   "outputs": [],
   "execution_count": 29
  },
  {
   "metadata": {},
   "cell_type": "markdown",
   "source": "## Data Exploration Using SQL Queries",
   "id": "fd45ead6bc20fe93"
  },
  {
   "metadata": {
    "ExecuteTime": {
     "end_time": "2025-01-15T02:55:49.376756Z",
     "start_time": "2025-01-15T02:55:48.957553Z"
    }
   },
   "cell_type": "code",
   "source": "spark.sql(\"SELECT * FROM flights LIMIT 20\").show()",
   "id": "22502495ec5daf59",
   "outputs": [
    {
     "name": "stdout",
     "output_type": "stream",
     "text": [
      "+----+-----+---+--------+---------+--------+---------+-------+-------+------+------+----+--------+--------+----+------+\n",
      "|year|month|day|dep_time|dep_delay|arr_time|arr_delay|carrier|tailnum|flight|origin|dest|air_time|distance|hour|minute|\n",
      "+----+-----+---+--------+---------+--------+---------+-------+-------+------+------+----+--------+--------+----+------+\n",
      "|2014|    1|  1|       1|       96|     235|       70|     AS| N508AS|   145|   PDX| ANC|     194|    1542|   0|     1|\n",
      "|2014|    1|  1|       4|       -6|     738|      -23|     US| N195UW|  1830|   SEA| CLT|     252|    2279|   0|     4|\n",
      "|2014|    1|  1|       8|       13|     548|       -4|     UA| N37422|  1609|   PDX| IAH|     201|    1825|   0|     8|\n",
      "|2014|    1|  1|      28|       -2|     800|      -23|     US| N547UW|   466|   PDX| CLT|     251|    2282|   0|    28|\n",
      "|2014|    1|  1|      34|       44|     325|       43|     AS| N762AS|   121|   SEA| ANC|     201|    1448|   0|    34|\n",
      "|2014|    1|  1|      37|       82|     747|       88|     DL| N806DN|  1823|   SEA| DTW|     224|    1927|   0|    37|\n",
      "|2014|    1|  1|     346|      227|     936|      219|     UA| N14219|  1481|   SEA| ORD|     202|    1721|   3|    46|\n",
      "|2014|    1|  1|     526|       -4|    1148|       15|     UA| N813UA|   229|   PDX| IAH|     217|    1825|   5|    26|\n",
      "|2014|    1|  1|     527|        7|     917|       24|     UA| N75433|  1576|   SEA| DEN|     136|    1024|   5|    27|\n",
      "|2014|    1|  1|     536|        1|    1334|       -6|     UA| N574UA|   478|   SEA| EWR|     268|    2402|   5|    36|\n",
      "|2014|    1|  1|     541|        1|     911|        4|     UA| N36476|  1569|   PDX| DEN|     130|     991|   5|    41|\n",
      "|2014|    1|  1|     549|       24|     907|       12|     US| N548UW|   649|   PDX| PHX|     122|    1009|   5|    49|\n",
      "|2014|    1|  1|     550|        0|     837|      -12|     DL| N660DL|  1634|   SEA| SLC|      82|     689|   5|    50|\n",
      "|2014|    1|  1|     557|       -3|    1134|      -16|     AA| N3JLAA|  1094|   SEA| DFW|     184|    1660|   5|    57|\n",
      "|2014|    1|  1|     557|       -3|     825|      -25|     AS| N562AS|    81|   SEA| ANC|     188|    1448|   5|    57|\n",
      "|2014|    1|  1|     558|       -2|     801|       -2|     AS| N402AS|   200|   SEA| SJC|     100|     697|   5|    58|\n",
      "|2014|    1|  1|     559|       -1|     916|       -9|     F9| N210FR|   796|   PDX| DEN|     125|     991|   5|    59|\n",
      "|2014|    1|  1|     600|        0|    1151|      -19|     AA| N3JFAA|  2240|   SEA| ORD|     206|    1721|   6|     0|\n",
      "|2014|    1|  1|     600|      -10|     842|       -8|     AS| N786AS|   426|   SEA| LAX|     125|     954|   6|     0|\n",
      "|2014|    1|  1|     602|       -3|     943|        5|     F9| N201FR|   144|   SEA| DEN|     129|    1024|   6|     2|\n",
      "+----+-----+---+--------+---------+--------+---------+-------+-------+------+------+----+--------+--------+----+------+\n",
      "\n"
     ]
    }
   ],
   "execution_count": 30
  },
  {
   "metadata": {
    "ExecuteTime": {
     "end_time": "2025-01-15T02:55:49.502052Z",
     "start_time": "2025-01-15T02:55:49.378983Z"
    }
   },
   "cell_type": "code",
   "source": "spark.sql(\"DESCRIBE flights\").show()",
   "id": "e2991bb13dff3c05",
   "outputs": [
    {
     "name": "stdout",
     "output_type": "stream",
     "text": [
      "+---------+---------+-------+\n",
      "| col_name|data_type|comment|\n",
      "+---------+---------+-------+\n",
      "|     year|      int|   NULL|\n",
      "|    month|      int|   NULL|\n",
      "|      day|      int|   NULL|\n",
      "| dep_time|   string|   NULL|\n",
      "|dep_delay|   string|   NULL|\n",
      "| arr_time|   string|   NULL|\n",
      "|arr_delay|   string|   NULL|\n",
      "|  carrier|   string|   NULL|\n",
      "|  tailnum|   string|   NULL|\n",
      "|   flight|      int|   NULL|\n",
      "|   origin|   string|   NULL|\n",
      "|     dest|   string|   NULL|\n",
      "| air_time|   string|   NULL|\n",
      "| distance|      int|   NULL|\n",
      "|     hour|   string|   NULL|\n",
      "|   minute|   string|   NULL|\n",
      "+---------+---------+-------+\n",
      "\n"
     ]
    }
   ],
   "execution_count": 31
  },
  {
   "metadata": {
    "ExecuteTime": {
     "end_time": "2025-01-15T02:55:49.844839Z",
     "start_time": "2025-01-15T02:55:49.506381Z"
    }
   },
   "cell_type": "code",
   "source": "spark.sql(\"SELECT * FROM flights WHERE dep_time == 'NA'\").show()",
   "id": "5c74b85ab85e8cbf",
   "outputs": [
    {
     "name": "stdout",
     "output_type": "stream",
     "text": [
      "+----+-----+---+--------+---------+--------+---------+-------+-------+------+------+----+--------+--------+----+------+\n",
      "|year|month|day|dep_time|dep_delay|arr_time|arr_delay|carrier|tailnum|flight|origin|dest|air_time|distance|hour|minute|\n",
      "+----+-----+---+--------+---------+--------+---------+-------+-------+------+------+----+--------+--------+----+------+\n",
      "|2014|    1|  1|      NA|       NA|      NA|       NA|     AS| N763AS|    61|   SEA| JNU|      NA|     909|  NA|    NA|\n",
      "|2014|    1|  1|      NA|       NA|      NA|       NA|     OO| N237SW|  5428|   PDX| SEA|      NA|     129|  NA|    NA|\n",
      "|2014|    1|  1|      NA|       NA|      NA|       NA|     OO| N237SW|  5325|   SEA| PDX|      NA|     129|  NA|    NA|\n",
      "|2014|    1|  1|      NA|       NA|      NA|       NA|     OO| N585SW|  5353|   PDX| EUG|      NA|     106|  NA|    NA|\n",
      "|2014|    1|  1|      NA|       NA|      NA|       NA|     OO| N295SW|  5438|   SEA| PDX|      NA|     129|  NA|    NA|\n",
      "|2014|    1|  1|      NA|       NA|      NA|       NA|     OO| N295SW|  5379|   PDX| SEA|      NA|     129|  NA|    NA|\n",
      "|2014|    1|  1|      NA|       NA|      NA|       NA|     OO| N295SW|  5403|   PDX| EUG|      NA|     106|  NA|    NA|\n",
      "|2014|    1|  1|      NA|       NA|      NA|       NA|     OO| N918SW|  5639|   SEA| SFO|      NA|     679|  NA|    NA|\n",
      "|2014|    1|  1|      NA|       NA|      NA|       NA|     UA|   NULL|  1142|   SEA| EWR|      NA|    2402|  NA|    NA|\n",
      "|2014|    1|  1|      NA|       NA|      NA|       NA|     UA|   NULL|  1195|   SEA| DEN|      NA|    1024|  NA|    NA|\n",
      "|2014|    1|  1|      NA|       NA|      NA|       NA|     UA|   NULL|  1647|   PDX| ORD|      NA|    1739|  NA|    NA|\n",
      "|2014|    1|  2|      NA|       NA|      NA|       NA|     AS| N403AS|    14|   SEA| EWR|      NA|    2402|  NA|    NA|\n",
      "|2014|    1|  2|      NA|       NA|      NA|       NA|     AS| N549AS|    24|   SEA| BOS|      NA|    2496|  NA|    NA|\n",
      "|2014|    1|  2|      NA|       NA|      NA|       NA|     B6| N794JB|   598|   SEA| BOS|      NA|    2496|  NA|    NA|\n",
      "|2014|    1|  2|      NA|       NA|      NA|       NA|     B6| N623JB|   498|   SEA| BOS|      NA|    2496|  NA|    NA|\n",
      "|2014|    1|  2|      NA|       NA|      NA|       NA|     UA|   NULL|   212|   SEA| EWR|      NA|    2402|  NA|    NA|\n",
      "|2014|    1|  2|      NA|       NA|      NA|       NA|     UA|   NULL|   583|   PDX| EWR|      NA|    2434|  NA|    NA|\n",
      "|2014|    1|  2|      NA|       NA|      NA|       NA|     UA|   NULL|  1647|   PDX| ORD|      NA|    1739|  NA|    NA|\n",
      "|2014|    1|  2|      NA|       NA|      NA|       NA|     UA|   NULL|  1710|   SEA| EWR|      NA|    2402|  NA|    NA|\n",
      "|2014|    1|  2|      NA|       NA|      NA|       NA|     UA|   NULL|   817|   SEA| EWR|      NA|    2402|  NA|    NA|\n",
      "+----+-----+---+--------+---------+--------+---------+-------+-------+------+------+----+--------+--------+----+------+\n",
      "only showing top 20 rows\n",
      "\n"
     ]
    }
   ],
   "execution_count": 32
  },
  {
   "metadata": {
    "ExecuteTime": {
     "end_time": "2025-01-15T02:55:50.954143Z",
     "start_time": "2025-01-15T02:55:49.847952Z"
    }
   },
   "cell_type": "code",
   "source": "spark.sql(\"SELECT COUNT(dep_time) AS empty_dep_time FROM flights WHERE dep_time = 'NA'\").show()",
   "id": "ba6f657c80023520",
   "outputs": [
    {
     "name": "stdout",
     "output_type": "stream",
     "text": [
      "+--------------+\n",
      "|empty_dep_time|\n",
      "+--------------+\n",
      "|           857|\n",
      "+--------------+\n",
      "\n"
     ]
    }
   ],
   "execution_count": 33
  },
  {
   "metadata": {},
   "cell_type": "markdown",
   "source": [
    "## A Bit of Cleaning\n",
    "\n",
    "In the cells below, I'm only selecting the rows that **do not** contain any missing values. After that I cast the values of the columns inside the array `columns_to_clean` so we can train the data later."
   ],
   "id": "5e8405518385d895"
  },
  {
   "metadata": {
    "ExecuteTime": {
     "end_time": "2025-01-15T02:55:51.048221Z",
     "start_time": "2025-01-15T02:55:50.956755Z"
    }
   },
   "cell_type": "code",
   "source": [
    "columns_to_clean = [\"dep_time\", \"dep_delay\", \"arr_time\", \"arr_delay\", \"air_time\", \"hour\", \"minute\"]\n",
    "\n",
    "for col in columns_to_clean:\n",
    "    flights = flights.where(F.col(col) != \"NA\")"
   ],
   "id": "1dd84a168f0b366d",
   "outputs": [],
   "execution_count": 34
  },
  {
   "metadata": {
    "ExecuteTime": {
     "end_time": "2025-01-15T02:55:51.097888Z",
     "start_time": "2025-01-15T02:55:51.051192Z"
    }
   },
   "cell_type": "code",
   "source": [
    "# Casting\n",
    "flights.dtypes"
   ],
   "id": "f0c0bbf54dc53cb3",
   "outputs": [
    {
     "data": {
      "text/plain": [
       "[('year', 'int'),\n",
       " ('month', 'int'),\n",
       " ('day', 'int'),\n",
       " ('dep_time', 'string'),\n",
       " ('dep_delay', 'string'),\n",
       " ('arr_time', 'string'),\n",
       " ('arr_delay', 'string'),\n",
       " ('carrier', 'string'),\n",
       " ('tailnum', 'string'),\n",
       " ('flight', 'int'),\n",
       " ('origin', 'string'),\n",
       " ('dest', 'string'),\n",
       " ('air_time', 'string'),\n",
       " ('distance', 'int'),\n",
       " ('hour', 'string'),\n",
       " ('minute', 'string')]"
      ]
     },
     "execution_count": 35,
     "metadata": {},
     "output_type": "execute_result"
    }
   ],
   "execution_count": 35
  },
  {
   "metadata": {
    "ExecuteTime": {
     "end_time": "2025-01-15T02:55:51.290978Z",
     "start_time": "2025-01-15T02:55:51.099674Z"
    }
   },
   "cell_type": "code",
   "source": [
    "casted_flights = flights\n",
    "\n",
    "for c in columns_to_clean:\n",
    "    casted_flights = casted_flights.withColumn(c, F.col(c).cast(IntegerType()))\n",
    "    \n",
    "casted_flights = casted_flights.withColumn(\"arr_delay\", F.col(\"arr_delay\").cast(DoubleType()))\n",
    "casted_flights.dtypes"
   ],
   "id": "7375b3d0d4879f3d",
   "outputs": [
    {
     "data": {
      "text/plain": [
       "[('year', 'int'),\n",
       " ('month', 'int'),\n",
       " ('day', 'int'),\n",
       " ('dep_time', 'int'),\n",
       " ('dep_delay', 'int'),\n",
       " ('arr_time', 'int'),\n",
       " ('arr_delay', 'double'),\n",
       " ('carrier', 'string'),\n",
       " ('tailnum', 'string'),\n",
       " ('flight', 'int'),\n",
       " ('origin', 'string'),\n",
       " ('dest', 'string'),\n",
       " ('air_time', 'int'),\n",
       " ('distance', 'int'),\n",
       " ('hour', 'int'),\n",
       " ('minute', 'int')]"
      ]
     },
     "execution_count": 36,
     "metadata": {},
     "output_type": "execute_result"
    }
   ],
   "execution_count": 36
  },
  {
   "metadata": {},
   "cell_type": "markdown",
   "source": "## A Bit More of Data Exploration",
   "id": "522eb0c1c913aa8"
  },
  {
   "metadata": {
    "ExecuteTime": {
     "end_time": "2025-01-15T02:55:52.074804Z",
     "start_time": "2025-01-15T02:55:51.293220Z"
    }
   },
   "cell_type": "code",
   "source": "spark.sql(\"SELECT DISTINCT origin, COUNT(origin) FROM flights GROUP BY origin\").show()",
   "id": "dc9fc6967a5fb025",
   "outputs": [
    {
     "name": "stdout",
     "output_type": "stream",
     "text": [
      "+------+-------------+\n",
      "|origin|count(origin)|\n",
      "+------+-------------+\n",
      "|   SEA|       108714|\n",
      "|   PDX|        53335|\n",
      "+------+-------------+\n",
      "\n"
     ]
    }
   ],
   "execution_count": 37
  },
  {
   "metadata": {
    "ExecuteTime": {
     "end_time": "2025-01-15T02:55:52.489329Z",
     "start_time": "2025-01-15T02:55:52.081594Z"
    }
   },
   "cell_type": "code",
   "source": "spark.sql(\"SELECT DISTINCT origin from flights\").show()",
   "id": "243a1926dc9b2b15",
   "outputs": [
    {
     "name": "stdout",
     "output_type": "stream",
     "text": [
      "+------+\n",
      "|origin|\n",
      "+------+\n",
      "|   SEA|\n",
      "|   PDX|\n",
      "+------+\n",
      "\n"
     ]
    }
   ],
   "execution_count": 38
  },
  {
   "metadata": {
    "ExecuteTime": {
     "end_time": "2025-01-15T02:55:52.538913Z",
     "start_time": "2025-01-15T02:55:52.491220Z"
    }
   },
   "cell_type": "code",
   "source": [
    "casted_flights.createOrReplaceTempView(\"casted_flights\")\n",
    "spark.sql(\"DESCRIBE casted_flights\").show()"
   ],
   "id": "ab76402a7fa6a363",
   "outputs": [
    {
     "name": "stdout",
     "output_type": "stream",
     "text": [
      "+---------+---------+-------+\n",
      "| col_name|data_type|comment|\n",
      "+---------+---------+-------+\n",
      "|     year|      int|   NULL|\n",
      "|    month|      int|   NULL|\n",
      "|      day|      int|   NULL|\n",
      "| dep_time|      int|   NULL|\n",
      "|dep_delay|      int|   NULL|\n",
      "| arr_time|      int|   NULL|\n",
      "|arr_delay|   double|   NULL|\n",
      "|  carrier|   string|   NULL|\n",
      "|  tailnum|   string|   NULL|\n",
      "|   flight|      int|   NULL|\n",
      "|   origin|   string|   NULL|\n",
      "|     dest|   string|   NULL|\n",
      "| air_time|      int|   NULL|\n",
      "| distance|      int|   NULL|\n",
      "|     hour|      int|   NULL|\n",
      "|   minute|      int|   NULL|\n",
      "+---------+---------+-------+\n",
      "\n"
     ]
    }
   ],
   "execution_count": 39
  },
  {
   "metadata": {
    "ExecuteTime": {
     "end_time": "2025-01-15T02:55:52.814809Z",
     "start_time": "2025-01-15T02:55:52.541201Z"
    }
   },
   "cell_type": "code",
   "source": [
    "delayed_flights = spark.sql(\"SELECT * FROM casted_flights WHERE arr_delay > 0\")\n",
    "delayed_flights.show()"
   ],
   "id": "392466957f0a5f32",
   "outputs": [
    {
     "name": "stdout",
     "output_type": "stream",
     "text": [
      "+----+-----+---+--------+---------+--------+---------+-------+-------+------+------+----+--------+--------+----+------+\n",
      "|year|month|day|dep_time|dep_delay|arr_time|arr_delay|carrier|tailnum|flight|origin|dest|air_time|distance|hour|minute|\n",
      "+----+-----+---+--------+---------+--------+---------+-------+-------+------+------+----+--------+--------+----+------+\n",
      "|2014|    1|  1|       1|       96|     235|     70.0|     AS| N508AS|   145|   PDX| ANC|     194|    1542|   0|     1|\n",
      "|2014|    1|  1|      34|       44|     325|     43.0|     AS| N762AS|   121|   SEA| ANC|     201|    1448|   0|    34|\n",
      "|2014|    1|  1|      37|       82|     747|     88.0|     DL| N806DN|  1823|   SEA| DTW|     224|    1927|   0|    37|\n",
      "|2014|    1|  1|     346|      227|     936|    219.0|     UA| N14219|  1481|   SEA| ORD|     202|    1721|   3|    46|\n",
      "|2014|    1|  1|     526|       -4|    1148|     15.0|     UA| N813UA|   229|   PDX| IAH|     217|    1825|   5|    26|\n",
      "|2014|    1|  1|     527|        7|     917|     24.0|     UA| N75433|  1576|   SEA| DEN|     136|    1024|   5|    27|\n",
      "|2014|    1|  1|     541|        1|     911|      4.0|     UA| N36476|  1569|   PDX| DEN|     130|     991|   5|    41|\n",
      "|2014|    1|  1|     549|       24|     907|     12.0|     US| N548UW|   649|   PDX| PHX|     122|    1009|   5|    49|\n",
      "|2014|    1|  1|     602|       -3|     943|      5.0|     F9| N201FR|   144|   SEA| DEN|     129|    1024|   6|     2|\n",
      "|2014|    1|  1|     602|       -3|    1204|      7.0|     UA| N77295|  1573|   PDX| ORD|     203|    1739|   6|     2|\n",
      "|2014|    1|  1|     606|        6|     746|      3.0|     AS| N796AS|   406|   PDX| SJC|      87|     569|   6|     6|\n",
      "|2014|    1|  1|     632|       -3|    1235|      5.0|     WN| N8302F|  3694|   SEA| MDW|     204|    1733|   6|    32|\n",
      "|2014|    1|  1|     639|       -1|     918|      3.0|     AS| N794AS|   556|   SEA| PSP|     130|     987|   6|    39|\n",
      "|2014|    1|  1|     647|       -3|    1038|     19.0|     AS| N553AS|   682|   SEA| DEN|     136|    1024|   6|    47|\n",
      "|2014|    1|  1|     650|       90|    1037|     91.0|     US| N626AW|   460|   SEA| PHX|     141|    1107|   6|    50|\n",
      "|2014|    1|  1|     656|       -4|     853|      8.0|     VX| N523VA|   805|   PDX| SFO|      82|     550|   6|    56|\n",
      "|2014|    1|  1|     705|        0|     931|      9.0|     B6| N627JB|  1121|   PDX| LGB|     113|     846|   7|     5|\n",
      "|2014|    1|  1|     713|       20|    1317|     10.0|     UA| N854UA|   461|   SEA| IAH|     218|    1874|   7|    13|\n",
      "|2014|    1|  1|     722|       -3|     933|      3.0|     WN| N407WN|   947|   PDX| LAS|     101|     763|   7|    22|\n",
      "|2014|    1|  1|     726|        1|    1117|     17.0|     WN| N603SW|  2181|   SEA| DEN|     133|    1024|   7|    26|\n",
      "+----+-----+---+--------+---------+--------+---------+-------+-------+------+------+----+--------+--------+----+------+\n",
      "only showing top 20 rows\n",
      "\n"
     ]
    }
   ],
   "execution_count": 40
  },
  {
   "metadata": {
    "ExecuteTime": {
     "end_time": "2025-01-15T02:55:53.834801Z",
     "start_time": "2025-01-15T02:55:52.816908Z"
    }
   },
   "cell_type": "code",
   "source": [
    "delayed_flights.createOrReplaceTempView(\"delayed_flights\")\n",
    "avg_delay = spark.sql(\"SELECT dest, AVG(arr_delay) AS avg_delay FROM delayed_flights GROUP BY dest ORDER BY avg_delay DESC\").show()"
   ],
   "id": "80626d2f06e506a4",
   "outputs": [
    {
     "name": "stdout",
     "output_type": "stream",
     "text": [
      "+----+------------------+\n",
      "|dest|         avg_delay|\n",
      "+----+------------------+\n",
      "| BOI|             64.75|\n",
      "| HDN|              46.8|\n",
      "| SFO|41.193768844221104|\n",
      "| CLE| 35.74193548387097|\n",
      "| SBA|35.391752577319586|\n",
      "| COS| 35.05607476635514|\n",
      "| BWI|34.585798816568044|\n",
      "| EWR| 33.52972258916777|\n",
      "| DFW| 33.27519181585678|\n",
      "| MIA| 32.66187050359712|\n",
      "| ORD| 32.47909024211299|\n",
      "| BNA| 31.94871794871795|\n",
      "| JFK|31.255884586180713|\n",
      "| JAC|             30.25|\n",
      "| PHL|29.245989304812834|\n",
      "| OGG|27.511111111111113|\n",
      "| IAD|27.430875576036865|\n",
      "| HOU| 27.33009708737864|\n",
      "| LGB| 27.07634730538922|\n",
      "| FAT|26.852589641434264|\n",
      "+----+------------------+\n",
      "only showing top 20 rows\n",
      "\n"
     ]
    }
   ],
   "execution_count": 41
  },
  {
   "metadata": {},
   "cell_type": "markdown",
   "source": "## Preparing the Data for the Model",
   "id": "1af64b46f2e1f34b"
  },
  {
   "metadata": {
    "ExecuteTime": {
     "end_time": "2025-01-15T02:55:54.000757Z",
     "start_time": "2025-01-15T02:55:53.838143Z"
    }
   },
   "cell_type": "code",
   "source": "casted_flights.show()",
   "id": "804d71592156ba96",
   "outputs": [
    {
     "name": "stdout",
     "output_type": "stream",
     "text": [
      "+----+-----+---+--------+---------+--------+---------+-------+-------+------+------+----+--------+--------+----+------+\n",
      "|year|month|day|dep_time|dep_delay|arr_time|arr_delay|carrier|tailnum|flight|origin|dest|air_time|distance|hour|minute|\n",
      "+----+-----+---+--------+---------+--------+---------+-------+-------+------+------+----+--------+--------+----+------+\n",
      "|2014|    1|  1|       1|       96|     235|     70.0|     AS| N508AS|   145|   PDX| ANC|     194|    1542|   0|     1|\n",
      "|2014|    1|  1|       4|       -6|     738|    -23.0|     US| N195UW|  1830|   SEA| CLT|     252|    2279|   0|     4|\n",
      "|2014|    1|  1|       8|       13|     548|     -4.0|     UA| N37422|  1609|   PDX| IAH|     201|    1825|   0|     8|\n",
      "|2014|    1|  1|      28|       -2|     800|    -23.0|     US| N547UW|   466|   PDX| CLT|     251|    2282|   0|    28|\n",
      "|2014|    1|  1|      34|       44|     325|     43.0|     AS| N762AS|   121|   SEA| ANC|     201|    1448|   0|    34|\n",
      "|2014|    1|  1|      37|       82|     747|     88.0|     DL| N806DN|  1823|   SEA| DTW|     224|    1927|   0|    37|\n",
      "|2014|    1|  1|     346|      227|     936|    219.0|     UA| N14219|  1481|   SEA| ORD|     202|    1721|   3|    46|\n",
      "|2014|    1|  1|     526|       -4|    1148|     15.0|     UA| N813UA|   229|   PDX| IAH|     217|    1825|   5|    26|\n",
      "|2014|    1|  1|     527|        7|     917|     24.0|     UA| N75433|  1576|   SEA| DEN|     136|    1024|   5|    27|\n",
      "|2014|    1|  1|     536|        1|    1334|     -6.0|     UA| N574UA|   478|   SEA| EWR|     268|    2402|   5|    36|\n",
      "|2014|    1|  1|     541|        1|     911|      4.0|     UA| N36476|  1569|   PDX| DEN|     130|     991|   5|    41|\n",
      "|2014|    1|  1|     549|       24|     907|     12.0|     US| N548UW|   649|   PDX| PHX|     122|    1009|   5|    49|\n",
      "|2014|    1|  1|     550|        0|     837|    -12.0|     DL| N660DL|  1634|   SEA| SLC|      82|     689|   5|    50|\n",
      "|2014|    1|  1|     557|       -3|    1134|    -16.0|     AA| N3JLAA|  1094|   SEA| DFW|     184|    1660|   5|    57|\n",
      "|2014|    1|  1|     557|       -3|     825|    -25.0|     AS| N562AS|    81|   SEA| ANC|     188|    1448|   5|    57|\n",
      "|2014|    1|  1|     558|       -2|     801|     -2.0|     AS| N402AS|   200|   SEA| SJC|     100|     697|   5|    58|\n",
      "|2014|    1|  1|     559|       -1|     916|     -9.0|     F9| N210FR|   796|   PDX| DEN|     125|     991|   5|    59|\n",
      "|2014|    1|  1|     600|        0|    1151|    -19.0|     AA| N3JFAA|  2240|   SEA| ORD|     206|    1721|   6|     0|\n",
      "|2014|    1|  1|     600|      -10|     842|     -8.0|     AS| N786AS|   426|   SEA| LAX|     125|     954|   6|     0|\n",
      "|2014|    1|  1|     602|       -3|     943|      5.0|     F9| N201FR|   144|   SEA| DEN|     129|    1024|   6|     2|\n",
      "+----+-----+---+--------+---------+--------+---------+-------+-------+------+------+----+--------+--------+----+------+\n",
      "only showing top 20 rows\n",
      "\n"
     ]
    }
   ],
   "execution_count": 42
  },
  {
   "metadata": {
    "ExecuteTime": {
     "end_time": "2025-01-15T02:55:54.035831Z",
     "start_time": "2025-01-15T02:55:54.003498Z"
    }
   },
   "cell_type": "code",
   "source": [
    "data_inputs = [\"month\", \"day\", \"dep_time\", \"arr_time\", \"carrier\", \"distance\", \"air_time\", \"arr_delay\"]\n",
    "training_data = casted_flights.select(data_inputs)"
   ],
   "id": "5fee3a697bd5517",
   "outputs": [],
   "execution_count": 43
  },
  {
   "metadata": {
    "ExecuteTime": {
     "end_time": "2025-01-15T02:55:54.208813Z",
     "start_time": "2025-01-15T02:55:54.038064Z"
    }
   },
   "cell_type": "code",
   "source": "training_data.show()",
   "id": "b85139bd2d5c6d7e",
   "outputs": [
    {
     "name": "stdout",
     "output_type": "stream",
     "text": [
      "+-----+---+--------+--------+-------+--------+--------+---------+\n",
      "|month|day|dep_time|arr_time|carrier|distance|air_time|arr_delay|\n",
      "+-----+---+--------+--------+-------+--------+--------+---------+\n",
      "|    1|  1|       1|     235|     AS|    1542|     194|     70.0|\n",
      "|    1|  1|       4|     738|     US|    2279|     252|    -23.0|\n",
      "|    1|  1|       8|     548|     UA|    1825|     201|     -4.0|\n",
      "|    1|  1|      28|     800|     US|    2282|     251|    -23.0|\n",
      "|    1|  1|      34|     325|     AS|    1448|     201|     43.0|\n",
      "|    1|  1|      37|     747|     DL|    1927|     224|     88.0|\n",
      "|    1|  1|     346|     936|     UA|    1721|     202|    219.0|\n",
      "|    1|  1|     526|    1148|     UA|    1825|     217|     15.0|\n",
      "|    1|  1|     527|     917|     UA|    1024|     136|     24.0|\n",
      "|    1|  1|     536|    1334|     UA|    2402|     268|     -6.0|\n",
      "|    1|  1|     541|     911|     UA|     991|     130|      4.0|\n",
      "|    1|  1|     549|     907|     US|    1009|     122|     12.0|\n",
      "|    1|  1|     550|     837|     DL|     689|      82|    -12.0|\n",
      "|    1|  1|     557|    1134|     AA|    1660|     184|    -16.0|\n",
      "|    1|  1|     557|     825|     AS|    1448|     188|    -25.0|\n",
      "|    1|  1|     558|     801|     AS|     697|     100|     -2.0|\n",
      "|    1|  1|     559|     916|     F9|     991|     125|     -9.0|\n",
      "|    1|  1|     600|    1151|     AA|    1721|     206|    -19.0|\n",
      "|    1|  1|     600|     842|     AS|     954|     125|     -8.0|\n",
      "|    1|  1|     602|     943|     F9|    1024|     129|      5.0|\n",
      "+-----+---+--------+--------+-------+--------+--------+---------+\n",
      "only showing top 20 rows\n",
      "\n"
     ]
    }
   ],
   "execution_count": 44
  },
  {
   "metadata": {
    "ExecuteTime": {
     "end_time": "2025-01-15T02:55:56.979803Z",
     "start_time": "2025-01-15T02:55:54.211359Z"
    }
   },
   "cell_type": "code",
   "source": [
    "from pyspark.ml.feature import StringIndexer\n",
    "indexer_month = StringIndexer(inputCol=\"month\", outputCol=\"month_indexed\")\n",
    "indexer_carrier = StringIndexer(inputCol=\"carrier\", outputCol=\"carrier_indexed\")"
   ],
   "id": "c723986f0e97da0e",
   "outputs": [],
   "execution_count": 45
  },
  {
   "metadata": {
    "ExecuteTime": {
     "end_time": "2025-01-15T02:55:58.901480Z",
     "start_time": "2025-01-15T02:55:56.981399Z"
    }
   },
   "cell_type": "code",
   "source": [
    "# Fit and transform 'month' and 'carrier'\n",
    "flights_indexed = indexer_month.fit(training_data).transform(training_data)\n",
    "flights_indexed = indexer_carrier.fit(flights_indexed).transform(flights_indexed)\n",
    "\n",
    "# Check the result\n",
    "flights_indexed.select(\"month\", \"month_indexed\", \"carrier\", \"carrier_indexed\").show(5)"
   ],
   "id": "43c3be9796425446",
   "outputs": [
    {
     "name": "stderr",
     "output_type": "stream",
     "text": [
      "                                                                                \r"
     ]
    },
    {
     "name": "stdout",
     "output_type": "stream",
     "text": [
      "+-----+-------------+-------+---------------+\n",
      "|month|month_indexed|carrier|carrier_indexed|\n",
      "+-----+-------------+-------+---------------+\n",
      "|    1|         10.0|     AS|            0.0|\n",
      "|    1|         10.0|     US|            6.0|\n",
      "|    1|         10.0|     UA|            4.0|\n",
      "|    1|         10.0|     US|            6.0|\n",
      "|    1|         10.0|     AS|            0.0|\n",
      "+-----+-------------+-------+---------------+\n",
      "only showing top 5 rows\n",
      "\n"
     ]
    }
   ],
   "execution_count": 46
  },
  {
   "metadata": {
    "ExecuteTime": {
     "end_time": "2025-01-15T02:55:59.383508Z",
     "start_time": "2025-01-15T02:55:58.904037Z"
    }
   },
   "cell_type": "code",
   "source": [
    "from pyspark.ml.feature import VectorAssembler\n",
    "columns = [\"day\", \"dep_time\", \"arr_time\", \"distance\", \"air_time\", \"month_indexed\", \"carrier_indexed\"]\n",
    "assembler = VectorAssembler(inputCols=columns, outputCol=\"features\")\n",
    "input_variables_transformed = assembler.transform(flights_indexed)\n",
    "input_variables_transformed.show()"
   ],
   "id": "d7ea19569c002d55",
   "outputs": [
    {
     "name": "stdout",
     "output_type": "stream",
     "text": [
      "+-----+---+--------+--------+-------+--------+--------+---------+-------------+---------------+--------------------+\n",
      "|month|day|dep_time|arr_time|carrier|distance|air_time|arr_delay|month_indexed|carrier_indexed|            features|\n",
      "+-----+---+--------+--------+-------+--------+--------+---------+-------------+---------------+--------------------+\n",
      "|    1|  1|       1|     235|     AS|    1542|     194|     70.0|         10.0|            0.0|[1.0,1.0,235.0,15...|\n",
      "|    1|  1|       4|     738|     US|    2279|     252|    -23.0|         10.0|            6.0|[1.0,4.0,738.0,22...|\n",
      "|    1|  1|       8|     548|     UA|    1825|     201|     -4.0|         10.0|            4.0|[1.0,8.0,548.0,18...|\n",
      "|    1|  1|      28|     800|     US|    2282|     251|    -23.0|         10.0|            6.0|[1.0,28.0,800.0,2...|\n",
      "|    1|  1|      34|     325|     AS|    1448|     201|     43.0|         10.0|            0.0|[1.0,34.0,325.0,1...|\n",
      "|    1|  1|      37|     747|     DL|    1927|     224|     88.0|         10.0|            3.0|[1.0,37.0,747.0,1...|\n",
      "|    1|  1|     346|     936|     UA|    1721|     202|    219.0|         10.0|            4.0|[1.0,346.0,936.0,...|\n",
      "|    1|  1|     526|    1148|     UA|    1825|     217|     15.0|         10.0|            4.0|[1.0,526.0,1148.0...|\n",
      "|    1|  1|     527|     917|     UA|    1024|     136|     24.0|         10.0|            4.0|[1.0,527.0,917.0,...|\n",
      "|    1|  1|     536|    1334|     UA|    2402|     268|     -6.0|         10.0|            4.0|[1.0,536.0,1334.0...|\n",
      "|    1|  1|     541|     911|     UA|     991|     130|      4.0|         10.0|            4.0|[1.0,541.0,911.0,...|\n",
      "|    1|  1|     549|     907|     US|    1009|     122|     12.0|         10.0|            6.0|[1.0,549.0,907.0,...|\n",
      "|    1|  1|     550|     837|     DL|     689|      82|    -12.0|         10.0|            3.0|[1.0,550.0,837.0,...|\n",
      "|    1|  1|     557|    1134|     AA|    1660|     184|    -16.0|         10.0|            5.0|[1.0,557.0,1134.0...|\n",
      "|    1|  1|     557|     825|     AS|    1448|     188|    -25.0|         10.0|            0.0|[1.0,557.0,825.0,...|\n",
      "|    1|  1|     558|     801|     AS|     697|     100|     -2.0|         10.0|            0.0|[1.0,558.0,801.0,...|\n",
      "|    1|  1|     559|     916|     F9|     991|     125|     -9.0|         10.0|            9.0|[1.0,559.0,916.0,...|\n",
      "|    1|  1|     600|    1151|     AA|    1721|     206|    -19.0|         10.0|            5.0|[1.0,600.0,1151.0...|\n",
      "|    1|  1|     600|     842|     AS|     954|     125|     -8.0|         10.0|            0.0|[1.0,600.0,842.0,...|\n",
      "|    1|  1|     602|     943|     F9|    1024|     129|      5.0|         10.0|            9.0|[1.0,602.0,943.0,...|\n",
      "+-----+---+--------+--------+-------+--------+--------+---------+-------------+---------------+--------------------+\n",
      "only showing top 20 rows\n",
      "\n"
     ]
    }
   ],
   "execution_count": 47
  },
  {
   "metadata": {
    "ExecuteTime": {
     "end_time": "2025-01-15T02:55:59.657287Z",
     "start_time": "2025-01-15T02:55:59.385662Z"
    }
   },
   "cell_type": "code",
   "source": [
    "from pyspark.ml.feature import Binarizer\n",
    "binarizer = Binarizer(inputCol=\"arr_delay\", outputCol=\"arr_delay_binary\", threshold=15)\n",
    "input_variables_transformed = binarizer.transform(input_variables_transformed)\n",
    "input_variables_transformed.show()"
   ],
   "id": "1241561e25267c51",
   "outputs": [
    {
     "name": "stdout",
     "output_type": "stream",
     "text": [
      "+-----+---+--------+--------+-------+--------+--------+---------+-------------+---------------+--------------------+----------------+\n",
      "|month|day|dep_time|arr_time|carrier|distance|air_time|arr_delay|month_indexed|carrier_indexed|            features|arr_delay_binary|\n",
      "+-----+---+--------+--------+-------+--------+--------+---------+-------------+---------------+--------------------+----------------+\n",
      "|    1|  1|       1|     235|     AS|    1542|     194|     70.0|         10.0|            0.0|[1.0,1.0,235.0,15...|             1.0|\n",
      "|    1|  1|       4|     738|     US|    2279|     252|    -23.0|         10.0|            6.0|[1.0,4.0,738.0,22...|             0.0|\n",
      "|    1|  1|       8|     548|     UA|    1825|     201|     -4.0|         10.0|            4.0|[1.0,8.0,548.0,18...|             0.0|\n",
      "|    1|  1|      28|     800|     US|    2282|     251|    -23.0|         10.0|            6.0|[1.0,28.0,800.0,2...|             0.0|\n",
      "|    1|  1|      34|     325|     AS|    1448|     201|     43.0|         10.0|            0.0|[1.0,34.0,325.0,1...|             1.0|\n",
      "|    1|  1|      37|     747|     DL|    1927|     224|     88.0|         10.0|            3.0|[1.0,37.0,747.0,1...|             1.0|\n",
      "|    1|  1|     346|     936|     UA|    1721|     202|    219.0|         10.0|            4.0|[1.0,346.0,936.0,...|             1.0|\n",
      "|    1|  1|     526|    1148|     UA|    1825|     217|     15.0|         10.0|            4.0|[1.0,526.0,1148.0...|             0.0|\n",
      "|    1|  1|     527|     917|     UA|    1024|     136|     24.0|         10.0|            4.0|[1.0,527.0,917.0,...|             1.0|\n",
      "|    1|  1|     536|    1334|     UA|    2402|     268|     -6.0|         10.0|            4.0|[1.0,536.0,1334.0...|             0.0|\n",
      "|    1|  1|     541|     911|     UA|     991|     130|      4.0|         10.0|            4.0|[1.0,541.0,911.0,...|             0.0|\n",
      "|    1|  1|     549|     907|     US|    1009|     122|     12.0|         10.0|            6.0|[1.0,549.0,907.0,...|             0.0|\n",
      "|    1|  1|     550|     837|     DL|     689|      82|    -12.0|         10.0|            3.0|[1.0,550.0,837.0,...|             0.0|\n",
      "|    1|  1|     557|    1134|     AA|    1660|     184|    -16.0|         10.0|            5.0|[1.0,557.0,1134.0...|             0.0|\n",
      "|    1|  1|     557|     825|     AS|    1448|     188|    -25.0|         10.0|            0.0|[1.0,557.0,825.0,...|             0.0|\n",
      "|    1|  1|     558|     801|     AS|     697|     100|     -2.0|         10.0|            0.0|[1.0,558.0,801.0,...|             0.0|\n",
      "|    1|  1|     559|     916|     F9|     991|     125|     -9.0|         10.0|            9.0|[1.0,559.0,916.0,...|             0.0|\n",
      "|    1|  1|     600|    1151|     AA|    1721|     206|    -19.0|         10.0|            5.0|[1.0,600.0,1151.0...|             0.0|\n",
      "|    1|  1|     600|     842|     AS|     954|     125|     -8.0|         10.0|            0.0|[1.0,600.0,842.0,...|             0.0|\n",
      "|    1|  1|     602|     943|     F9|    1024|     129|      5.0|         10.0|            9.0|[1.0,602.0,943.0,...|             0.0|\n",
      "+-----+---+--------+--------+-------+--------+--------+---------+-------------+---------------+--------------------+----------------+\n",
      "only showing top 20 rows\n",
      "\n"
     ]
    }
   ],
   "execution_count": 48
  },
  {
   "metadata": {
    "ExecuteTime": {
     "end_time": "2025-01-15T02:55:59.852697Z",
     "start_time": "2025-01-15T02:55:59.659124Z"
    }
   },
   "cell_type": "code",
   "source": [
    "model_df = input_variables_transformed.select(\"features\", \"arr_delay_binary\")\n",
    "model_df.show()"
   ],
   "id": "2405d4f11123cd22",
   "outputs": [
    {
     "name": "stdout",
     "output_type": "stream",
     "text": [
      "+--------------------+----------------+\n",
      "|            features|arr_delay_binary|\n",
      "+--------------------+----------------+\n",
      "|[1.0,1.0,235.0,15...|             1.0|\n",
      "|[1.0,4.0,738.0,22...|             0.0|\n",
      "|[1.0,8.0,548.0,18...|             0.0|\n",
      "|[1.0,28.0,800.0,2...|             0.0|\n",
      "|[1.0,34.0,325.0,1...|             1.0|\n",
      "|[1.0,37.0,747.0,1...|             1.0|\n",
      "|[1.0,346.0,936.0,...|             1.0|\n",
      "|[1.0,526.0,1148.0...|             0.0|\n",
      "|[1.0,527.0,917.0,...|             1.0|\n",
      "|[1.0,536.0,1334.0...|             0.0|\n",
      "|[1.0,541.0,911.0,...|             0.0|\n",
      "|[1.0,549.0,907.0,...|             0.0|\n",
      "|[1.0,550.0,837.0,...|             0.0|\n",
      "|[1.0,557.0,1134.0...|             0.0|\n",
      "|[1.0,557.0,825.0,...|             0.0|\n",
      "|[1.0,558.0,801.0,...|             0.0|\n",
      "|[1.0,559.0,916.0,...|             0.0|\n",
      "|[1.0,600.0,1151.0...|             0.0|\n",
      "|[1.0,600.0,842.0,...|             0.0|\n",
      "|[1.0,602.0,943.0,...|             0.0|\n",
      "+--------------------+----------------+\n",
      "only showing top 20 rows\n",
      "\n"
     ]
    }
   ],
   "execution_count": 49
  },
  {
   "metadata": {
    "ExecuteTime": {
     "end_time": "2025-01-15T02:56:03.426803Z",
     "start_time": "2025-01-15T02:55:59.854998Z"
    }
   },
   "cell_type": "code",
   "source": [
    "from pyspark.ml.classification import DecisionTreeClassifier\n",
    "from pyspark.ml.evaluation import MulticlassClassificationEvaluator\n",
    "dt = DecisionTreeClassifier(labelCol=\"arr_delay_binary\", featuresCol=\"features\")\n",
    "dt_model = dt.fit(model_df)"
   ],
   "id": "8f8d52a722dc76ad",
   "outputs": [
    {
     "name": "stderr",
     "output_type": "stream",
     "text": [
      "                                                                                \r"
     ]
    }
   ],
   "execution_count": 50
  },
  {
   "metadata": {
    "ExecuteTime": {
     "end_time": "2025-01-15T02:56:03.874539Z",
     "start_time": "2025-01-15T02:56:03.428225Z"
    }
   },
   "cell_type": "code",
   "source": [
    "predictions_df = dt_model.transform(model_df)\n",
    "predictions_df.show()"
   ],
   "id": "67544ba232e284c8",
   "outputs": [
    {
     "name": "stdout",
     "output_type": "stream",
     "text": [
      "+--------------------+----------------+----------------+--------------------+----------+\n",
      "|            features|arr_delay_binary|   rawPrediction|         probability|prediction|\n",
      "+--------------------+----------------+----------------+--------------------+----------+\n",
      "|[1.0,1.0,235.0,15...|             1.0|     [28.0,67.0]|[0.29473684210526...|       1.0|\n",
      "|[1.0,4.0,738.0,22...|             0.0|[49783.0,4287.0]|[0.92071388940262...|       0.0|\n",
      "|[1.0,8.0,548.0,18...|             0.0|[49783.0,4287.0]|[0.92071388940262...|       0.0|\n",
      "|[1.0,28.0,800.0,2...|             0.0|[49783.0,4287.0]|[0.92071388940262...|       0.0|\n",
      "|[1.0,34.0,325.0,1...|             1.0|     [28.0,67.0]|[0.29473684210526...|       1.0|\n",
      "|[1.0,37.0,747.0,1...|             1.0|[49783.0,4287.0]|[0.92071388940262...|       0.0|\n",
      "|[1.0,346.0,936.0,...|             1.0|[49783.0,4287.0]|[0.92071388940262...|       0.0|\n",
      "|[1.0,526.0,1148.0...|             0.0|[49783.0,4287.0]|[0.92071388940262...|       0.0|\n",
      "|[1.0,527.0,917.0,...|             1.0|[49783.0,4287.0]|[0.92071388940262...|       0.0|\n",
      "|[1.0,536.0,1334.0...|             0.0|[49783.0,4287.0]|[0.92071388940262...|       0.0|\n",
      "|[1.0,541.0,911.0,...|             0.0|[49783.0,4287.0]|[0.92071388940262...|       0.0|\n",
      "|[1.0,549.0,907.0,...|             0.0|[49783.0,4287.0]|[0.92071388940262...|       0.0|\n",
      "|[1.0,550.0,837.0,...|             0.0|[49783.0,4287.0]|[0.92071388940262...|       0.0|\n",
      "|[1.0,557.0,1134.0...|             0.0|[49783.0,4287.0]|[0.92071388940262...|       0.0|\n",
      "|[1.0,557.0,825.0,...|             0.0|[49783.0,4287.0]|[0.92071388940262...|       0.0|\n",
      "|[1.0,558.0,801.0,...|             0.0|[49783.0,4287.0]|[0.92071388940262...|       0.0|\n",
      "|[1.0,559.0,916.0,...|             0.0|[49783.0,4287.0]|[0.92071388940262...|       0.0|\n",
      "|[1.0,600.0,1151.0...|             0.0|[49783.0,4287.0]|[0.92071388940262...|       0.0|\n",
      "|[1.0,600.0,842.0,...|             0.0|[49783.0,4287.0]|[0.92071388940262...|       0.0|\n",
      "|[1.0,602.0,943.0,...|             0.0|[49783.0,4287.0]|[0.92071388940262...|       0.0|\n",
      "+--------------------+----------------+----------------+--------------------+----------+\n",
      "only showing top 20 rows\n",
      "\n"
     ]
    }
   ],
   "execution_count": 51
  },
  {
   "metadata": {},
   "cell_type": "markdown",
   "source": "## Pipeline",
   "id": "156e5b905f56a865"
  },
  {
   "metadata": {
    "ExecuteTime": {
     "end_time": "2025-01-15T02:56:08.720558Z",
     "start_time": "2025-01-15T02:56:03.876514Z"
    }
   },
   "cell_type": "code",
   "source": [
    "from pyspark.ml import Pipeline\n",
    "\n",
    "pipeline = Pipeline(stages=[indexer_month, indexer_carrier, binarizer, assembler, dt])\n",
    "pipeline_model = pipeline.fit(training_data)  \n",
    "predictions = pipeline_model.transform(training_data)\n",
    "accuracy = MulticlassClassificationEvaluator(labelCol=\"arr_delay_binary\", predictionCol=\"prediction\", metricName=\"accuracy\").evaluate(predictions_df)\n",
    "precision = MulticlassClassificationEvaluator(labelCol=\"arr_delay_binary\", predictionCol=\"prediction\", metricName=\"weightedPrecision\").evaluate(predictions_df)\n",
    "recall = MulticlassClassificationEvaluator(labelCol=\"arr_delay_binary\", predictionCol=\"prediction\", metricName=\"weightedRecall\").evaluate(predictions_df)\n",
    "print(f\"Accuracy Score: {accuracy}\")\n",
    "print(f\"Precision Score: {precision}\")"
   ],
   "id": "ef902bbeef8cf1ff",
   "outputs": [
    {
     "name": "stdout",
     "output_type": "stream",
     "text": [
      "Accuracy Score: 0.8530370517829149\n",
      "Precision Score: 0.8604016122218203\n"
     ]
    }
   ],
   "execution_count": 52
  },
  {
   "metadata": {},
   "cell_type": "markdown",
   "source": "## Confusion Matrix",
   "id": "378bac71b97b827a"
  },
  {
   "metadata": {
    "ExecuteTime": {
     "end_time": "2025-01-15T02:56:13.920775Z",
     "start_time": "2025-01-15T02:56:08.721656Z"
    }
   },
   "cell_type": "code",
   "source": [
    "from pyspark.mllib.evaluation import MulticlassMetrics\n",
    "from pyspark.sql.functions import col\n",
    "import pandas as pd\n",
    "\n",
    "# Step 1: Select prediction and actual label columns\n",
    "prediction_and_labels = predictions.select(\n",
    "    col(\"prediction\").cast(\"double\"),\n",
    "    col(\"arr_delay_binary\").cast(\"double\")\n",
    ")\n",
    "\n",
    "# Step 2: Convert to RDD for MulticlassMetrics\n",
    "preds_and_labels_rdd = prediction_and_labels.rdd.map(tuple)\n",
    "\n",
    "# Step 3: Initialize MulticlassMetrics\n",
    "metrics = MulticlassMetrics(preds_and_labels_rdd)\n",
    "\n",
    "# Step 4: Print the Confusion Matrix\n",
    "confusion_matrix = metrics.confusionMatrix().toArray()\n",
    "\n",
    "cm_df = pd.DataFrame(\n",
    "    confusion_matrix,\n",
    "    index=[\"Actual On-Time (0)\", \"Actual Delayed (1)\"],\n",
    "    columns=[\"Predicted On-Time (0)\", \"Predicted Delayed (1)\"]\n",
    ")\n",
    "\n",
    "print(\"Confusion Matrix:\\n\", cm_df)\n"
   ],
   "id": "1146cc8891068641",
   "outputs": [
    {
     "name": "stderr",
     "output_type": "stream",
     "text": [
      "/Users/jorgecontreras/Desktop/projects/flight-prices/venv/lib/python3.12/site-packages/pyspark/sql/context.py:158: FutureWarning: Deprecated in 3.0.0. Use SparkSession.builder.getOrCreate() instead.\n",
      "  warnings.warn(\n",
      "[Stage 71:===================>                                      (1 + 2) / 3]\r"
     ]
    },
    {
     "name": "stdout",
     "output_type": "stream",
     "text": [
      "Confusion Matrix:\n",
      "                     Predicted On-Time (0)  Predicted Delayed (1)\n",
      "Actual On-Time (0)               136424.0                   75.0\n",
      "Actual Delayed (1)                23549.0                  700.0\n"
     ]
    },
    {
     "name": "stderr",
     "output_type": "stream",
     "text": [
      "                                                                                \r"
     ]
    }
   ],
   "execution_count": 53
  },
  {
   "metadata": {},
   "cell_type": "markdown",
   "source": [
    "## Confusion Matrix Breakdown\n",
    "\n",
    "- **True Negatives (TN):** 136,092 → Flights correctly predicted as on time\n",
    "- **False Positives (FP):** 407 → Flights predicted as delayed but were actually on time\n",
    "- **False Negatives (FN):** 23,202 → Flights predicted as on time but were actually delayed\n",
    "- **True Positives (TP):** 1,047 → Flights correctly predicted as delayed\n"
   ],
   "id": "16ce01bee4142546"
  },
  {
   "metadata": {},
   "cell_type": "markdown",
   "source": [
    "## **Conclusion**\n",
    "\n",
    "The model demonstrates a strong ability to predict on-time flights but struggles significantly with identifying delayed flights. While the **overall accuracy** is high (~85.4%), the **recall** for delayed flights is critically low (~4.3%), indicating that the model fails to detect most actual delays. The **precision** (~72%) suggests that when the model does predict a delay, it is often correct, but this comes at the cost of missing many delayed flights due to a high number of **false negatives**.\n",
    "\n",
    "To improve the model's performance, especially in detecting delays, several strategies should be considered:\n",
    "- **Address Class Imbalance:** Implement oversampling or class weighting to balance the representation of delayed and on-time flights.  \n",
    "- **Threshold Adjustment:** Lower the binarization threshold to capture more delayed flights.  \n",
    "- **Feature Engineering:** Incorporate additional features like weather conditions, holidays, and day-of-week trends.  \n",
    "- **Model Tuning:** Experiment with more complex models (e.g., Random Forest, Gradient Boosting) and perform hyperparameter optimization.\n",
    "\n",
    "By implementing these improvements, the model can achieve a better balance between **precision** and **recall**, ultimately enhancing its ability to accurately predict flight delays and provide more reliable insights for decision-making.\n"
   ],
   "id": "87c6077f316048db"
  },
  {
   "metadata": {},
   "cell_type": "markdown",
   "source": [
    "## Improving Model\n",
    "\n",
    "### To Do:\n",
    "\n",
    "- Check for other models to improve metrics"
   ],
   "id": "9a5b40ef93ac1fa3"
  }
 ],
 "metadata": {
  "kernelspec": {
   "display_name": "Python 3",
   "language": "python",
   "name": "python3"
  },
  "language_info": {
   "codemirror_mode": {
    "name": "ipython",
    "version": 2
   },
   "file_extension": ".py",
   "mimetype": "text/x-python",
   "name": "python",
   "nbconvert_exporter": "python",
   "pygments_lexer": "ipython2",
   "version": "2.7.6"
  }
 },
 "nbformat": 4,
 "nbformat_minor": 5
}
